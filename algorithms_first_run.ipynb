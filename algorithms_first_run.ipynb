{
 "cells": [
  {
   "cell_type": "code",
   "execution_count": 1,
   "metadata": {},
   "outputs": [],
   "source": [
    "from sklearn.datasets import load_iris\n",
    "from sklearn.model_selection import train_test_split\n",
    "import numpy as np\n",
    "\n",
    "X, y = load_iris(return_X_y=True)\n",
    "X, y = X[y < 2], y[y < 2]\n",
    "X_train, X_test, y_train, y_test = train_test_split(X, y)\n"
   ]
  },
  {
   "cell_type": "markdown",
   "metadata": {},
   "source": [
    "# Basic"
   ]
  },
  {
   "cell_type": "markdown",
   "metadata": {},
   "source": [
    "## FTTransformer\n",
    "\n",
    "FTTransformer is trained for 100\n",
    "epochs with 64 batch size. AdamW optimizer with 0.0001 learning rate and 10−5 weight decay is\n",
    "applied to update network parameters."
   ]
  },
  {
   "cell_type": "code",
   "execution_count": 7,
   "metadata": {},
   "outputs": [
    {
     "name": "stdout",
     "output_type": "stream",
     "text": [
      "GPU is off\n"
     ]
    },
    {
     "name": "stderr",
     "output_type": "stream",
     "text": [
      "c:\\Users\\kaami\\anaconda3\\lib\\site-packages\\delu\\_utils.py:22: DeLUDeprecationWarning: The function improve_reproducibility` is deprecated and will be removed in future releases. Instead, use `delu.random.seed` and manually set flags mentioned in the `PyTorch docs on reproducibility <https://pytorch.org/docs/stable/notes/randomness.html>`_\n",
      "  warnings.warn(\n"
     ]
    },
    {
     "name": "stdout",
     "output_type": "stream",
     "text": [
      "Epoch 001 | Validation metric: 1.0000 <<< BEST VALIDATION EPOCH\n",
      "Epoch 002 | Validation metric: 1.0000\n",
      "Epoch 003 | Validation metric: 1.0000\n",
      "[0 1 1 0 1 1 1 1 0 1 0 1 1 1 1 1 1 0 1 1 1 0 0 0 0]\n",
      "[0 1 1 0 1 1 1 1 0 1 0 1 1 1 1 1 1 0 1 1 1 0 0 0 0]\n",
      "0.0\n",
      "[0.08601463 0.84738636 0.8290972  0.10320327 0.84258074 0.8284931\n",
      " 0.75809556 0.84310883 0.11315625 0.85173064 0.08502733 0.84281564\n",
      " 0.80025935 0.81357646 0.8414967  0.83021957 0.83492494 0.08873788\n",
      " 0.82364994 0.8242303  0.845862   0.08886345 0.18766175 0.08996285\n",
      " 0.08774083]\n"
     ]
    }
   ],
   "source": [
    "from adbench.baseline.FTTransformer.run import FTTransformer\n",
    "model = FTTransformer(seed=42, model_name = 'FTTransformer', n_epochs=3)\n",
    "model.fit(X_train, y_train)  # fit\n",
    "score = model.predict_score(X_test)  # predict\n",
    "print(y_test)\n",
    "print(np.round(score).astype(int))\n",
    "print(np.sum(np.abs(y_test-np.round(score))))\n",
    "print(score)"
   ]
  },
  {
   "cell_type": "code",
   "execution_count": 16,
   "metadata": {},
   "outputs": [
    {
     "name": "stderr",
     "output_type": "stream",
     "text": [
      "c:\\Users\\kaami\\anaconda3\\lib\\site-packages\\delu\\_utils.py:22: DeLUDeprecationWarning: The function improve_reproducibility` is deprecated and will be removed in future releases. Instead, use `delu.random.seed` and manually set flags mentioned in the `PyTorch docs on reproducibility <https://pytorch.org/docs/stable/notes/randomness.html>`_\n",
      "  warnings.warn(\n"
     ]
    },
    {
     "name": "stdout",
     "output_type": "stream",
     "text": [
      "Epoch 001 | Validation metric: 1.0000 <<< BEST VALIDATION EPOCH\n",
      "Epoch 002 | Validation metric: 1.0000\n",
      "Epoch 003 | Validation metric: 1.0000\n",
      "[0 1 1 0 1 1 1 1 0 1 0 1 1 1 1 1 1 0 1 1 1 0 0 0 0]\n",
      "[1 1 1 1 1 1 1 1 1 1 1 1 1 1 1 1 1 1 1 1 1 1 1 1 1]\n",
      "9.0\n",
      "[0.63305926 0.97763413 0.96216106 0.62829417 0.9773557  0.9624396\n",
      " 0.9141353  0.9795376  0.68506676 0.983905   0.61072344 0.9822881\n",
      " 0.9478087  0.9536032  0.97010124 0.96885395 0.9741048  0.6502565\n",
      " 0.9556793  0.95490766 0.98349136 0.5760079  0.66720474 0.657648\n",
      " 0.59638804]\n"
     ]
    }
   ],
   "source": [
    "from adbench.baseline.FTTransformer.run import FTTransformer\n",
    "model = FTTransformer(seed=42, model_name = 'ResNet', n_epochs=3)\n",
    "model.fit(X_train, y_train)  # fit\n",
    "score = model.predict_score(X_test)  # predict\n",
    "print(y_test)\n",
    "print(np.round(score).astype(int))\n",
    "print(np.sum(np.abs(y_test-np.round(score))))\n",
    "print(score)"
   ]
  },
  {
   "cell_type": "markdown",
   "metadata": {},
   "source": [
    "## AE"
   ]
  },
  {
   "cell_type": "code",
   "execution_count": 11,
   "metadata": {},
   "outputs": [
    {
     "name": "stderr",
     "output_type": "stream",
     "text": [
      "Training: 100%|██████████| 10/10 [00:00<00:00, 118.04it/s]"
     ]
    },
    {
     "name": "stdout",
     "output_type": "stream",
     "text": [
      "[1 1 0 0 1 1 0 0 1 0 0 0 0 1 1 1 1 0 1 0 0 0 0 1 1]\n",
      "[1 1 0 0 1 1 0 0 1 0 0 0 0 1 1 1 1 0 1 0 1 0 0 1 1]\n"
     ]
    },
    {
     "name": "stderr",
     "output_type": "stream",
     "text": [
      "\n"
     ]
    },
    {
     "data": {
      "text/plain": [
       "array([[0.        , 1.        ],\n",
       "       [0.        , 1.        ],\n",
       "       [0.65624368, 0.34375632],\n",
       "       [0.66879919, 0.33120081],\n",
       "       [0.        , 1.        ],\n",
       "       [0.        , 1.        ],\n",
       "       [0.26834422, 0.73165578],\n",
       "       [0.78706986, 0.21293014],\n",
       "       [0.        , 1.        ],\n",
       "       [0.48561907, 0.51438093],\n",
       "       [0.42153734, 0.57846266],\n",
       "       [0.6480602 , 0.3519398 ],\n",
       "       [0.7524032 , 0.2475968 ],\n",
       "       [0.        , 1.        ],\n",
       "       [0.        , 1.        ],\n",
       "       [0.        , 1.        ],\n",
       "       [0.        , 1.        ],\n",
       "       [0.67480516, 0.32519484],\n",
       "       [0.        , 1.        ],\n",
       "       [0.97874581, 0.02125419],\n",
       "       [0.10843194, 0.89156806],\n",
       "       [0.36986476, 0.63013524],\n",
       "       [0.36860847, 0.63139153],\n",
       "       [0.        , 1.        ],\n",
       "       [0.        , 1.        ]])"
      ]
     },
     "execution_count": 11,
     "metadata": {},
     "output_type": "execute_result"
    }
   ],
   "source": [
    "from pyod.models.auto_encoder import AutoEncoder\n",
    "clf = AutoEncoder(contamination=0.05)\n",
    "clf.fit(X_train[y_train==0])\n",
    "\n",
    "# predykcja (1 = anomalia, 0 = normalne)\n",
    "y_pred = clf.predict(X_test)\n",
    "print(y_test)\n",
    "print(y_pred)\n",
    "clf.predict_proba(X_test)"
   ]
  },
  {
   "cell_type": "markdown",
   "metadata": {},
   "source": [
    "## VAE\n"
   ]
  },
  {
   "cell_type": "code",
   "execution_count": 31,
   "metadata": {},
   "outputs": [
    {
     "name": "stderr",
     "output_type": "stream",
     "text": [
      "Training: 100%|██████████| 30/30 [00:00<00:00, 79.93it/s]"
     ]
    },
    {
     "name": "stdout",
     "output_type": "stream",
     "text": [
      "[1 1 1 0 0 0 0 1 0 0 0 0 1 0 1 0 1 1 0 0 1 1 0 0 1]\n",
      "[1 1 1 0 0 0 0 1 0 0 0 0 1 0 1 0 1 1 0 0 1 1 0 0 1]\n"
     ]
    },
    {
     "name": "stderr",
     "output_type": "stream",
     "text": [
      "\n"
     ]
    }
   ],
   "source": [
    "from pyod.models.vae import VAE\n",
    "clf = VAE(contamination=0.1)\n",
    "clf.fit(X_train[y_train==0])\n",
    "\n",
    "# predykcja (1 = anomalia, 0 = normalne)\n",
    "y_pred = clf.predict(X_test)\n",
    "print(y_test)\n",
    "print(y_pred)"
   ]
  },
  {
   "cell_type": "markdown",
   "metadata": {},
   "source": [
    "# REPEN"
   ]
  },
  {
   "cell_type": "markdown",
   "metadata": {},
   "source": [
    "REPresentations for a random nEarest Neighbor distance-based method (REPEN) [127].\n",
    "\n",
    "A neural network-based model that leverages transformed low-dimensional representation for\n",
    "random distance-based detectors. \n",
    "\n",
    "The hidden size of REPEN is set to 20, and the margin of triplet\n",
    "loss is set to 1000. \n",
    "\n",
    "REPEN is trained for 30 epochs with 256 batch size, where the total number of\n",
    "steps (batches of samples) is set to 50. \n",
    "\n",
    "Adadelta [187] optimizer with 0.001 learning rate and 0.95\n",
    "ρ is applied to update network parameters"
   ]
  },
  {
   "cell_type": "code",
   "execution_count": 1,
   "metadata": {},
   "outputs": [
    {
     "ename": "ValueError",
     "evalue": "No inliers found. Check training data labels.",
     "output_type": "error",
     "traceback": [
      "\u001b[1;31m---------------------------------------------------------------------------\u001b[0m",
      "\u001b[1;31mValueError\u001b[0m                                Traceback (most recent call last)",
      "\u001b[1;32m<ipython-input-1-aa21b15632b2>\u001b[0m in \u001b[0;36m<module>\u001b[1;34m\u001b[0m\n\u001b[0;32m     18\u001b[0m \u001b[1;31m# Initialize and train the model\u001b[0m\u001b[1;33m\u001b[0m\u001b[1;33m\u001b[0m\u001b[1;33m\u001b[0m\u001b[0m\n\u001b[0;32m     19\u001b[0m \u001b[0mmodel\u001b[0m \u001b[1;33m=\u001b[0m \u001b[0mREPEN\u001b[0m\u001b[1;33m(\u001b[0m\u001b[0mseed\u001b[0m\u001b[1;33m=\u001b[0m\u001b[1;36m42\u001b[0m\u001b[1;33m,\u001b[0m \u001b[0mmode\u001b[0m\u001b[1;33m=\u001b[0m\u001b[1;34m'semi_supervised'\u001b[0m\u001b[1;33m,\u001b[0m \u001b[0mn_epochs\u001b[0m\u001b[1;33m=\u001b[0m\u001b[1;36m3\u001b[0m\u001b[1;33m,\u001b[0m \u001b[0mbatch_size\u001b[0m\u001b[1;33m=\u001b[0m\u001b[1;36m8\u001b[0m\u001b[1;33m)\u001b[0m\u001b[1;33m\u001b[0m\u001b[1;33m\u001b[0m\u001b[0m\n\u001b[1;32m---> 20\u001b[1;33m \u001b[0mmodel\u001b[0m\u001b[1;33m.\u001b[0m\u001b[0mfit\u001b[0m\u001b[1;33m(\u001b[0m\u001b[0mX_train\u001b[0m\u001b[1;33m,\u001b[0m \u001b[0my_train\u001b[0m\u001b[1;33m)\u001b[0m  \u001b[1;31m# Fit\u001b[0m\u001b[1;33m\u001b[0m\u001b[1;33m\u001b[0m\u001b[0m\n\u001b[0m\u001b[0;32m     21\u001b[0m \u001b[0mscore\u001b[0m \u001b[1;33m=\u001b[0m \u001b[0mmodel\u001b[0m\u001b[1;33m.\u001b[0m\u001b[0mpredict_score\u001b[0m\u001b[1;33m(\u001b[0m\u001b[0mX_test\u001b[0m\u001b[1;33m)\u001b[0m  \u001b[1;31m# Predict scores\u001b[0m\u001b[1;33m\u001b[0m\u001b[1;33m\u001b[0m\u001b[0m\n\u001b[0;32m     22\u001b[0m \u001b[1;33m\u001b[0m\u001b[0m\n",
      "\u001b[1;32mc:\\Users\\kaami\\anaconda3\\lib\\site-packages\\adbench\\baseline\\REPEN\\run.py\u001b[0m in \u001b[0;36mfit\u001b[1;34m(self, X_train, y_train, ratio)\u001b[0m\n\u001b[0;32m     45\u001b[0m \u001b[1;33m\u001b[0m\u001b[0m\n\u001b[0;32m     46\u001b[0m         \u001b[1;31m# fitting\u001b[0m\u001b[1;33m\u001b[0m\u001b[1;33m\u001b[0m\u001b[1;33m\u001b[0m\u001b[0m\n\u001b[1;32m---> 47\u001b[1;33m         \u001b[0mself\u001b[0m\u001b[1;33m.\u001b[0m\u001b[0mmodel\u001b[0m\u001b[1;33m.\u001b[0m\u001b[0mfit\u001b[0m\u001b[1;33m(\u001b[0m\u001b[0mX_train\u001b[0m\u001b[1;33m,\u001b[0m \u001b[0my_train\u001b[0m\u001b[1;33m)\u001b[0m\u001b[1;33m\u001b[0m\u001b[1;33m\u001b[0m\u001b[0m\n\u001b[0m\u001b[0;32m     48\u001b[0m \u001b[1;33m\u001b[0m\u001b[0m\n\u001b[0;32m     49\u001b[0m         \u001b[1;32mreturn\u001b[0m \u001b[0mself\u001b[0m\u001b[1;33m\u001b[0m\u001b[1;33m\u001b[0m\u001b[0m\n",
      "\u001b[1;32mc:\\Users\\kaami\\anaconda3\\lib\\site-packages\\adbench\\baseline\\REPEN\\model.py\u001b[0m in \u001b[0;36mfit\u001b[1;34m(self, x_train, y_train, verbose)\u001b[0m\n\u001b[0;32m    316\u001b[0m         \u001b[0mself\u001b[0m\u001b[1;33m.\u001b[0m\u001b[0mx_train\u001b[0m \u001b[1;33m=\u001b[0m \u001b[0mx_train\u001b[0m\u001b[1;33m\u001b[0m\u001b[1;33m\u001b[0m\u001b[0m\n\u001b[0;32m    317\u001b[0m         \u001b[0mself\u001b[0m\u001b[1;33m.\u001b[0m\u001b[0mprepare_data\u001b[0m\u001b[1;33m(\u001b[0m\u001b[0mx_train\u001b[0m\u001b[1;33m,\u001b[0m \u001b[0my_train\u001b[0m\u001b[1;33m)\u001b[0m\u001b[1;33m\u001b[0m\u001b[1;33m\u001b[0m\u001b[0m\n\u001b[1;32m--> 318\u001b[1;33m         self.network = self.Trainer.train(self.network, self.mode, x_train,\n\u001b[0m\u001b[0;32m    319\u001b[0m                                           \u001b[0mself\u001b[0m\u001b[1;33m.\u001b[0m\u001b[0mpositive_weights\u001b[0m\u001b[1;33m,\u001b[0m \u001b[0mself\u001b[0m\u001b[1;33m.\u001b[0m\u001b[0mnegative_weights\u001b[0m\u001b[1;33m,\u001b[0m\u001b[1;33m\u001b[0m\u001b[1;33m\u001b[0m\u001b[0m\n\u001b[0;32m    320\u001b[0m                                           \u001b[0mself\u001b[0m\u001b[1;33m.\u001b[0m\u001b[0minlier_ids\u001b[0m\u001b[1;33m,\u001b[0m \u001b[0mself\u001b[0m\u001b[1;33m.\u001b[0m\u001b[0moutlier_ids\u001b[0m\u001b[1;33m,\u001b[0m\u001b[1;33m\u001b[0m\u001b[1;33m\u001b[0m\u001b[0m\n",
      "\u001b[1;32mc:\\Users\\kaami\\anaconda3\\lib\\site-packages\\adbench\\baseline\\REPEN\\model.py\u001b[0m in \u001b[0;36mtrain\u001b[1;34m(self, network, mode, x_train, positive_weights, negative_weights, inlier_indices, outlier_indices, verbose)\u001b[0m\n\u001b[0;32m    204\u001b[0m                                        save_weights_only=True)\n\u001b[0;32m    205\u001b[0m \u001b[1;33m\u001b[0m\u001b[0m\n\u001b[1;32m--> 206\u001b[1;33m         network.model.fit_generator(self.batch_generator(x_train, positive_weights,\n\u001b[0m\u001b[0;32m    207\u001b[0m                                                          \u001b[0mnegative_weights\u001b[0m\u001b[1;33m,\u001b[0m\u001b[1;33m\u001b[0m\u001b[1;33m\u001b[0m\u001b[0m\n\u001b[0;32m    208\u001b[0m                                                          \u001b[0minlier_indices\u001b[0m\u001b[1;33m,\u001b[0m\u001b[1;33m\u001b[0m\u001b[1;33m\u001b[0m\u001b[0m\n",
      "\u001b[1;32mc:\\Users\\kaami\\anaconda3\\lib\\site-packages\\keras\\engine\\training.py\u001b[0m in \u001b[0;36mfit_generator\u001b[1;34m(self, generator, steps_per_epoch, epochs, verbose, callbacks, validation_data, validation_steps, validation_freq, class_weight, max_queue_size, workers, use_multiprocessing, shuffle, initial_epoch)\u001b[0m\n\u001b[0;32m   2634\u001b[0m             \u001b[0mstacklevel\u001b[0m\u001b[1;33m=\u001b[0m\u001b[1;36m2\u001b[0m\u001b[1;33m,\u001b[0m\u001b[1;33m\u001b[0m\u001b[1;33m\u001b[0m\u001b[0m\n\u001b[0;32m   2635\u001b[0m         )\n\u001b[1;32m-> 2636\u001b[1;33m         return self.fit(\n\u001b[0m\u001b[0;32m   2637\u001b[0m             \u001b[0mgenerator\u001b[0m\u001b[1;33m,\u001b[0m\u001b[1;33m\u001b[0m\u001b[1;33m\u001b[0m\u001b[0m\n\u001b[0;32m   2638\u001b[0m             \u001b[0msteps_per_epoch\u001b[0m\u001b[1;33m=\u001b[0m\u001b[0msteps_per_epoch\u001b[0m\u001b[1;33m,\u001b[0m\u001b[1;33m\u001b[0m\u001b[1;33m\u001b[0m\u001b[0m\n",
      "\u001b[1;32mc:\\Users\\kaami\\anaconda3\\lib\\site-packages\\keras\\utils\\traceback_utils.py\u001b[0m in \u001b[0;36merror_handler\u001b[1;34m(*args, **kwargs)\u001b[0m\n\u001b[0;32m     68\u001b[0m             \u001b[1;31m# To get the full stack trace, call:\u001b[0m\u001b[1;33m\u001b[0m\u001b[1;33m\u001b[0m\u001b[1;33m\u001b[0m\u001b[0m\n\u001b[0;32m     69\u001b[0m             \u001b[1;31m# `tf.debugging.disable_traceback_filtering()`\u001b[0m\u001b[1;33m\u001b[0m\u001b[1;33m\u001b[0m\u001b[1;33m\u001b[0m\u001b[0m\n\u001b[1;32m---> 70\u001b[1;33m             \u001b[1;32mraise\u001b[0m \u001b[0me\u001b[0m\u001b[1;33m.\u001b[0m\u001b[0mwith_traceback\u001b[0m\u001b[1;33m(\u001b[0m\u001b[0mfiltered_tb\u001b[0m\u001b[1;33m)\u001b[0m \u001b[1;32mfrom\u001b[0m \u001b[1;32mNone\u001b[0m\u001b[1;33m\u001b[0m\u001b[1;33m\u001b[0m\u001b[0m\n\u001b[0m\u001b[0;32m     71\u001b[0m         \u001b[1;32mfinally\u001b[0m\u001b[1;33m:\u001b[0m\u001b[1;33m\u001b[0m\u001b[1;33m\u001b[0m\u001b[0m\n\u001b[0;32m     72\u001b[0m             \u001b[1;32mdel\u001b[0m \u001b[0mfiltered_tb\u001b[0m\u001b[1;33m\u001b[0m\u001b[1;33m\u001b[0m\u001b[0m\n",
      "\u001b[1;32mc:\\Users\\kaami\\anaconda3\\lib\\site-packages\\adbench\\baseline\\REPEN\\model.py\u001b[0m in \u001b[0;36mbatch_generator\u001b[1;34m(self, X, positive_weights, negative_weights, inlier_ids, outlier_ids)\u001b[0m\n\u001b[0;32m     99\u001b[0m         \u001b[0mcounter\u001b[0m \u001b[1;33m=\u001b[0m \u001b[1;36m0\u001b[0m\u001b[1;33m\u001b[0m\u001b[1;33m\u001b[0m\u001b[0m\n\u001b[0;32m    100\u001b[0m         \u001b[1;32mwhile\u001b[0m \u001b[1;36m1\u001b[0m\u001b[1;33m:\u001b[0m\u001b[1;33m\u001b[0m\u001b[1;33m\u001b[0m\u001b[0m\n\u001b[1;32m--> 101\u001b[1;33m             X1, X2, X3 = self.tripletBatchGeneration(X, rng, positive_weights,\n\u001b[0m\u001b[0;32m    102\u001b[0m                                                      \u001b[0mnegative_weights\u001b[0m\u001b[1;33m,\u001b[0m\u001b[1;33m\u001b[0m\u001b[1;33m\u001b[0m\u001b[0m\n\u001b[0;32m    103\u001b[0m                                                      inlier_ids, outlier_ids)\n",
      "\u001b[1;32mc:\\Users\\kaami\\anaconda3\\lib\\site-packages\\adbench\\baseline\\REPEN\\model.py\u001b[0m in \u001b[0;36mtripletBatchGeneration\u001b[1;34m(self, X, rng, positive_weights, negative_weights, inlier_ids, outlier_ids)\u001b[0m\n\u001b[0;32m    111\u001b[0m         \u001b[1;31m# Ensure inlier_ids and outlier_ids are not empty\u001b[0m\u001b[1;33m\u001b[0m\u001b[1;33m\u001b[0m\u001b[1;33m\u001b[0m\u001b[0m\n\u001b[0;32m    112\u001b[0m         \u001b[1;32mif\u001b[0m \u001b[0mlen\u001b[0m\u001b[1;33m(\u001b[0m\u001b[0minlier_ids\u001b[0m\u001b[1;33m)\u001b[0m \u001b[1;33m==\u001b[0m \u001b[1;36m0\u001b[0m\u001b[1;33m:\u001b[0m\u001b[1;33m\u001b[0m\u001b[1;33m\u001b[0m\u001b[0m\n\u001b[1;32m--> 113\u001b[1;33m             \u001b[1;32mraise\u001b[0m \u001b[0mValueError\u001b[0m\u001b[1;33m(\u001b[0m\u001b[1;34m\"No inliers found. Check training data labels.\"\u001b[0m\u001b[1;33m)\u001b[0m\u001b[1;33m\u001b[0m\u001b[1;33m\u001b[0m\u001b[0m\n\u001b[0m\u001b[0;32m    114\u001b[0m         \u001b[1;32mif\u001b[0m \u001b[0mlen\u001b[0m\u001b[1;33m(\u001b[0m\u001b[0moutlier_ids\u001b[0m\u001b[1;33m)\u001b[0m \u001b[1;33m==\u001b[0m \u001b[1;36m0\u001b[0m\u001b[1;33m:\u001b[0m\u001b[1;33m\u001b[0m\u001b[1;33m\u001b[0m\u001b[0m\n\u001b[0;32m    115\u001b[0m             \u001b[1;32mraise\u001b[0m \u001b[0mValueError\u001b[0m\u001b[1;33m(\u001b[0m\u001b[1;34m\"No outliers found. Check training data labels.\"\u001b[0m\u001b[1;33m)\u001b[0m\u001b[1;33m\u001b[0m\u001b[1;33m\u001b[0m\u001b[0m\n",
      "\u001b[1;31mValueError\u001b[0m: No inliers found. Check training data labels."
     ]
    }
   ],
   "source": [
    "from adbench.baseline.REPEN.run import REPEN\n",
    "from sklearn.datasets import load_iris\n",
    "from sklearn.model_selection import train_test_split\n",
    "import numpy as np\n",
    "\n",
    "# Load data and filter to binary classes\n",
    "X, y = load_iris(return_X_y=True)\n",
    "X, y = X[y < 2], y[y < 2]  # Classes 0 and 1\n",
    "\n",
    "# Split with stratification and enforce class presence\n",
    "X_train, X_test, y_train, y_test = train_test_split(\n",
    "    X, y, test_size=0.2, stratify=y, random_state=42\n",
    ")\n",
    "\n",
    "# Verify both classes exist in training data\n",
    "assert 0 in y_train and 1 in y_train, \"Training data must contain both classes.\"\n",
    "\n",
    "# Initialize and train the model\n",
    "model = REPEN(seed=42, mode='semi_supervised', n_epochs=3, batch_size=8)\n",
    "model.fit(X_train, y_train)  # Fit\n",
    "score = model.predict_score(X_test)  # Predict scores\n",
    "\n",
    "# Output results\n",
    "print(\"True labels:\", y_test)\n",
    "print(\"Predicted scores (rounded):\", np.round(score).astype(int))\n",
    "print(\"Number of mismatches:\", np.sum(np.abs(y_test - np.round(score))))\n",
    "print(\"Raw scores:\", score)"
   ]
  },
  {
   "cell_type": "code",
   "execution_count": 51,
   "metadata": {},
   "outputs": [
    {
     "name": "stderr",
     "output_type": "stream",
     "text": [
      "c:\\Users\\kaami\\anaconda3\\lib\\site-packages\\adbench\\baseline\\REPEN\\model.py:160: UserWarning: `Model.fit_generator` is deprecated and will be removed in a future version. Please use `Model.fit`, which supports generators.\n",
      "  network.model.fit_generator(self.batch_generator(x_train, positive_weights,\n"
     ]
    },
    {
     "ename": "ValueError",
     "evalue": "'a' cannot be empty unless no samples are taken",
     "output_type": "error",
     "traceback": [
      "\u001b[1;31m---------------------------------------------------------------------------\u001b[0m",
      "\u001b[1;31mValueError\u001b[0m                                Traceback (most recent call last)",
      "\u001b[1;32m<ipython-input-51-ccd14bc790bf>\u001b[0m in \u001b[0;36m<module>\u001b[1;34m\u001b[0m\n\u001b[0;32m      3\u001b[0m \u001b[1;33m\u001b[0m\u001b[0m\n\u001b[0;32m      4\u001b[0m \u001b[0mmodel\u001b[0m \u001b[1;33m=\u001b[0m \u001b[0mREPEN\u001b[0m\u001b[1;33m(\u001b[0m\u001b[0mseed\u001b[0m\u001b[1;33m=\u001b[0m\u001b[1;36m42\u001b[0m\u001b[1;33m,\u001b[0m \u001b[0mmode\u001b[0m \u001b[1;33m=\u001b[0m \u001b[1;34m'semi_supervised'\u001b[0m\u001b[1;33m,\u001b[0m \u001b[0mn_epochs\u001b[0m\u001b[1;33m=\u001b[0m\u001b[1;36m3\u001b[0m\u001b[1;33m,\u001b[0m \u001b[0mbatch_size\u001b[0m\u001b[1;33m=\u001b[0m\u001b[1;36m8\u001b[0m\u001b[1;33m)\u001b[0m \u001b[1;31m#\"semi_supervised\"\u001b[0m\u001b[1;33m\u001b[0m\u001b[1;33m\u001b[0m\u001b[0m\n\u001b[1;32m----> 5\u001b[1;33m \u001b[0mmodel\u001b[0m\u001b[1;33m.\u001b[0m\u001b[0mfit\u001b[0m\u001b[1;33m(\u001b[0m\u001b[0mX_train\u001b[0m\u001b[1;33m,\u001b[0m \u001b[0my_train\u001b[0m\u001b[1;33m)\u001b[0m  \u001b[1;31m# fit\u001b[0m\u001b[1;33m\u001b[0m\u001b[1;33m\u001b[0m\u001b[0m\n\u001b[0m\u001b[0;32m      6\u001b[0m \u001b[0mscore\u001b[0m \u001b[1;33m=\u001b[0m \u001b[0mmodel\u001b[0m\u001b[1;33m.\u001b[0m\u001b[0mpredict_score\u001b[0m\u001b[1;33m(\u001b[0m\u001b[0mX_test\u001b[0m\u001b[1;33m)\u001b[0m  \u001b[1;31m# predict\u001b[0m\u001b[1;33m\u001b[0m\u001b[1;33m\u001b[0m\u001b[0m\n\u001b[0;32m      7\u001b[0m \u001b[0mprint\u001b[0m\u001b[1;33m(\u001b[0m\u001b[0my_test\u001b[0m\u001b[1;33m)\u001b[0m\u001b[1;33m\u001b[0m\u001b[1;33m\u001b[0m\u001b[0m\n",
      "\u001b[1;32mc:\\Users\\kaami\\anaconda3\\lib\\site-packages\\adbench\\baseline\\REPEN\\run.py\u001b[0m in \u001b[0;36mfit\u001b[1;34m(self, X_train, y_train, ratio)\u001b[0m\n\u001b[0;32m     45\u001b[0m \u001b[1;33m\u001b[0m\u001b[0m\n\u001b[0;32m     46\u001b[0m         \u001b[1;31m# fitting\u001b[0m\u001b[1;33m\u001b[0m\u001b[1;33m\u001b[0m\u001b[1;33m\u001b[0m\u001b[0m\n\u001b[1;32m---> 47\u001b[1;33m         \u001b[0mself\u001b[0m\u001b[1;33m.\u001b[0m\u001b[0mmodel\u001b[0m\u001b[1;33m.\u001b[0m\u001b[0mfit\u001b[0m\u001b[1;33m(\u001b[0m\u001b[0mX_train\u001b[0m\u001b[1;33m,\u001b[0m \u001b[0my_train\u001b[0m\u001b[1;33m)\u001b[0m\u001b[1;33m\u001b[0m\u001b[1;33m\u001b[0m\u001b[0m\n\u001b[0m\u001b[0;32m     48\u001b[0m \u001b[1;33m\u001b[0m\u001b[0m\n\u001b[0;32m     49\u001b[0m         \u001b[1;32mreturn\u001b[0m \u001b[0mself\u001b[0m\u001b[1;33m\u001b[0m\u001b[1;33m\u001b[0m\u001b[0m\n",
      "\u001b[1;32mc:\\Users\\kaami\\anaconda3\\lib\\site-packages\\adbench\\baseline\\REPEN\\model.py\u001b[0m in \u001b[0;36mfit\u001b[1;34m(self, x_train, y_train, verbose)\u001b[0m\n\u001b[0;32m    270\u001b[0m         \u001b[0mself\u001b[0m\u001b[1;33m.\u001b[0m\u001b[0mx_train\u001b[0m \u001b[1;33m=\u001b[0m \u001b[0mx_train\u001b[0m\u001b[1;33m\u001b[0m\u001b[1;33m\u001b[0m\u001b[0m\n\u001b[0;32m    271\u001b[0m         \u001b[0mself\u001b[0m\u001b[1;33m.\u001b[0m\u001b[0mprepare_data\u001b[0m\u001b[1;33m(\u001b[0m\u001b[0mx_train\u001b[0m\u001b[1;33m,\u001b[0m \u001b[0my_train\u001b[0m\u001b[1;33m)\u001b[0m\u001b[1;33m\u001b[0m\u001b[1;33m\u001b[0m\u001b[0m\n\u001b[1;32m--> 272\u001b[1;33m         self.network = self.Trainer.train(self.network, self.mode, x_train,\n\u001b[0m\u001b[0;32m    273\u001b[0m                                           \u001b[0mself\u001b[0m\u001b[1;33m.\u001b[0m\u001b[0mpositive_weights\u001b[0m\u001b[1;33m,\u001b[0m \u001b[0mself\u001b[0m\u001b[1;33m.\u001b[0m\u001b[0mnegative_weights\u001b[0m\u001b[1;33m,\u001b[0m\u001b[1;33m\u001b[0m\u001b[1;33m\u001b[0m\u001b[0m\n\u001b[0;32m    274\u001b[0m                                           \u001b[0mself\u001b[0m\u001b[1;33m.\u001b[0m\u001b[0minlier_ids\u001b[0m\u001b[1;33m,\u001b[0m \u001b[0mself\u001b[0m\u001b[1;33m.\u001b[0m\u001b[0moutlier_ids\u001b[0m\u001b[1;33m,\u001b[0m\u001b[1;33m\u001b[0m\u001b[1;33m\u001b[0m\u001b[0m\n",
      "\u001b[1;32mc:\\Users\\kaami\\anaconda3\\lib\\site-packages\\adbench\\baseline\\REPEN\\model.py\u001b[0m in \u001b[0;36mtrain\u001b[1;34m(self, network, mode, x_train, positive_weights, negative_weights, inlier_indices, outlier_indices, verbose)\u001b[0m\n\u001b[0;32m    158\u001b[0m                                        save_weights_only=True)\n\u001b[0;32m    159\u001b[0m \u001b[1;33m\u001b[0m\u001b[0m\n\u001b[1;32m--> 160\u001b[1;33m         network.model.fit_generator(self.batch_generator(x_train, positive_weights,\n\u001b[0m\u001b[0;32m    161\u001b[0m                                                          \u001b[0mnegative_weights\u001b[0m\u001b[1;33m,\u001b[0m\u001b[1;33m\u001b[0m\u001b[1;33m\u001b[0m\u001b[0m\n\u001b[0;32m    162\u001b[0m                                                          \u001b[0minlier_indices\u001b[0m\u001b[1;33m,\u001b[0m\u001b[1;33m\u001b[0m\u001b[1;33m\u001b[0m\u001b[0m\n",
      "\u001b[1;32mc:\\Users\\kaami\\anaconda3\\lib\\site-packages\\keras\\engine\\training.py\u001b[0m in \u001b[0;36mfit_generator\u001b[1;34m(self, generator, steps_per_epoch, epochs, verbose, callbacks, validation_data, validation_steps, validation_freq, class_weight, max_queue_size, workers, use_multiprocessing, shuffle, initial_epoch)\u001b[0m\n\u001b[0;32m   2634\u001b[0m             \u001b[0mstacklevel\u001b[0m\u001b[1;33m=\u001b[0m\u001b[1;36m2\u001b[0m\u001b[1;33m,\u001b[0m\u001b[1;33m\u001b[0m\u001b[1;33m\u001b[0m\u001b[0m\n\u001b[0;32m   2635\u001b[0m         )\n\u001b[1;32m-> 2636\u001b[1;33m         return self.fit(\n\u001b[0m\u001b[0;32m   2637\u001b[0m             \u001b[0mgenerator\u001b[0m\u001b[1;33m,\u001b[0m\u001b[1;33m\u001b[0m\u001b[1;33m\u001b[0m\u001b[0m\n\u001b[0;32m   2638\u001b[0m             \u001b[0msteps_per_epoch\u001b[0m\u001b[1;33m=\u001b[0m\u001b[0msteps_per_epoch\u001b[0m\u001b[1;33m,\u001b[0m\u001b[1;33m\u001b[0m\u001b[1;33m\u001b[0m\u001b[0m\n",
      "\u001b[1;32mc:\\Users\\kaami\\anaconda3\\lib\\site-packages\\keras\\utils\\traceback_utils.py\u001b[0m in \u001b[0;36merror_handler\u001b[1;34m(*args, **kwargs)\u001b[0m\n\u001b[0;32m     68\u001b[0m             \u001b[1;31m# To get the full stack trace, call:\u001b[0m\u001b[1;33m\u001b[0m\u001b[1;33m\u001b[0m\u001b[1;33m\u001b[0m\u001b[0m\n\u001b[0;32m     69\u001b[0m             \u001b[1;31m# `tf.debugging.disable_traceback_filtering()`\u001b[0m\u001b[1;33m\u001b[0m\u001b[1;33m\u001b[0m\u001b[1;33m\u001b[0m\u001b[0m\n\u001b[1;32m---> 70\u001b[1;33m             \u001b[1;32mraise\u001b[0m \u001b[0me\u001b[0m\u001b[1;33m.\u001b[0m\u001b[0mwith_traceback\u001b[0m\u001b[1;33m(\u001b[0m\u001b[0mfiltered_tb\u001b[0m\u001b[1;33m)\u001b[0m \u001b[1;32mfrom\u001b[0m \u001b[1;32mNone\u001b[0m\u001b[1;33m\u001b[0m\u001b[1;33m\u001b[0m\u001b[0m\n\u001b[0m\u001b[0;32m     71\u001b[0m         \u001b[1;32mfinally\u001b[0m\u001b[1;33m:\u001b[0m\u001b[1;33m\u001b[0m\u001b[1;33m\u001b[0m\u001b[0m\n\u001b[0;32m     72\u001b[0m             \u001b[1;32mdel\u001b[0m \u001b[0mfiltered_tb\u001b[0m\u001b[1;33m\u001b[0m\u001b[1;33m\u001b[0m\u001b[0m\n",
      "\u001b[1;32mc:\\Users\\kaami\\anaconda3\\lib\\site-packages\\adbench\\baseline\\REPEN\\model.py\u001b[0m in \u001b[0;36mbatch_generator\u001b[1;34m(self, X, positive_weights, negative_weights, inlier_ids, outlier_ids)\u001b[0m\n\u001b[0;32m     99\u001b[0m         \u001b[0mcounter\u001b[0m \u001b[1;33m=\u001b[0m \u001b[1;36m0\u001b[0m\u001b[1;33m\u001b[0m\u001b[1;33m\u001b[0m\u001b[0m\n\u001b[0;32m    100\u001b[0m         \u001b[1;32mwhile\u001b[0m \u001b[1;36m1\u001b[0m\u001b[1;33m:\u001b[0m\u001b[1;33m\u001b[0m\u001b[1;33m\u001b[0m\u001b[0m\n\u001b[1;32m--> 101\u001b[1;33m             X1, X2, X3 = self.tripletBatchGeneration(X, rng, positive_weights,\n\u001b[0m\u001b[0;32m    102\u001b[0m                                                      \u001b[0mnegative_weights\u001b[0m\u001b[1;33m,\u001b[0m\u001b[1;33m\u001b[0m\u001b[1;33m\u001b[0m\u001b[0m\n\u001b[0;32m    103\u001b[0m                                                      inlier_ids, outlier_ids)\n",
      "\u001b[1;32mc:\\Users\\kaami\\anaconda3\\lib\\site-packages\\adbench\\baseline\\REPEN\\model.py\u001b[0m in \u001b[0;36mtripletBatchGeneration\u001b[1;34m(self, X, rng, positive_weights, negative_weights, inlier_ids, outlier_ids)\u001b[0m\n\u001b[0;32m    117\u001b[0m         \u001b[0mnegatives\u001b[0m \u001b[1;33m=\u001b[0m \u001b[0mnp\u001b[0m\u001b[1;33m.\u001b[0m\u001b[0mzeros\u001b[0m\u001b[1;33m(\u001b[0m\u001b[1;33m[\u001b[0m\u001b[0mself\u001b[0m\u001b[1;33m.\u001b[0m\u001b[0mbatch_size\u001b[0m\u001b[1;33m]\u001b[0m\u001b[1;33m)\u001b[0m\u001b[1;33m.\u001b[0m\u001b[0mastype\u001b[0m\u001b[1;33m(\u001b[0m\u001b[1;34m'int'\u001b[0m\u001b[1;33m)\u001b[0m\u001b[1;33m\u001b[0m\u001b[1;33m\u001b[0m\u001b[0m\n\u001b[0;32m    118\u001b[0m \u001b[1;33m\u001b[0m\u001b[0m\n\u001b[1;32m--> 119\u001b[1;33m         \u001b[0mexamples\u001b[0m \u001b[1;33m=\u001b[0m \u001b[0mrng\u001b[0m\u001b[1;33m.\u001b[0m\u001b[0mchoice\u001b[0m\u001b[1;33m(\u001b[0m\u001b[0minlier_ids\u001b[0m\u001b[1;33m,\u001b[0m \u001b[0mself\u001b[0m\u001b[1;33m.\u001b[0m\u001b[0mbatch_size\u001b[0m\u001b[1;33m,\u001b[0m \u001b[0mp\u001b[0m\u001b[1;33m=\u001b[0m\u001b[0mpositive_weights\u001b[0m\u001b[1;33m)\u001b[0m\u001b[1;33m\u001b[0m\u001b[1;33m\u001b[0m\u001b[0m\n\u001b[0m\u001b[0;32m    120\u001b[0m         \u001b[0mpositives\u001b[0m \u001b[1;33m=\u001b[0m \u001b[0mrng\u001b[0m\u001b[1;33m.\u001b[0m\u001b[0mchoice\u001b[0m\u001b[1;33m(\u001b[0m\u001b[0minlier_ids\u001b[0m\u001b[1;33m,\u001b[0m \u001b[0mself\u001b[0m\u001b[1;33m.\u001b[0m\u001b[0mbatch_size\u001b[0m\u001b[1;33m)\u001b[0m\u001b[1;33m\u001b[0m\u001b[1;33m\u001b[0m\u001b[0m\n\u001b[0;32m    121\u001b[0m         \u001b[1;32mif\u001b[0m \u001b[1;33m(\u001b[0m\u001b[0mlen\u001b[0m\u001b[1;33m(\u001b[0m\u001b[0moutlier_ids\u001b[0m\u001b[1;33m)\u001b[0m \u001b[1;33m==\u001b[0m \u001b[1;36m2\u001b[0m\u001b[1;33m)\u001b[0m \u001b[1;32mand\u001b[0m \u001b[1;33m(\u001b[0m\u001b[0mtype\u001b[0m\u001b[1;33m(\u001b[0m\u001b[0moutlier_ids\u001b[0m\u001b[1;33m)\u001b[0m \u001b[1;33m==\u001b[0m \u001b[0mlist\u001b[0m\u001b[1;33m)\u001b[0m\u001b[1;33m:\u001b[0m\u001b[1;33m\u001b[0m\u001b[1;33m\u001b[0m\u001b[0m\n",
      "\u001b[1;32mmtrand.pyx\u001b[0m in \u001b[0;36mnumpy.random.mtrand.RandomState.choice\u001b[1;34m()\u001b[0m\n",
      "\u001b[1;31mValueError\u001b[0m: 'a' cannot be empty unless no samples are taken"
     ]
    }
   ],
   "source": [
    "from adbench.baseline.REPEN.run import REPEN\n",
    "\n",
    "\n",
    "model = REPEN(seed=42, mode = 'semi_supervised', n_epochs=3, batch_size=8) #\"semi_supervised\"\n",
    "model.fit(X_train, y_train)  # fit\n",
    "score = model.predict_score(X_test)  # predict\n",
    "print(y_test)\n",
    "print(np.round(score).astype(int))\n",
    "print(np.sum(np.abs(y_test-np.round(score))))\n",
    "print(score)"
   ]
  },
  {
   "cell_type": "code",
   "execution_count": 47,
   "metadata": {},
   "outputs": [
    {
     "name": "stderr",
     "output_type": "stream",
     "text": [
      "c:\\Users\\kaami\\anaconda3\\lib\\site-packages\\adbench\\baseline\\REPEN\\model.py:160: UserWarning: `Model.fit_generator` is deprecated and will be removed in a future version. Please use `Model.fit`, which supports generators.\n",
      "  network.model.fit_generator(self.batch_generator(x_train, positive_weights,\n"
     ]
    },
    {
     "ename": "ValueError",
     "evalue": "'a' cannot be empty unless no samples are taken",
     "output_type": "error",
     "traceback": [
      "\u001b[1;31m---------------------------------------------------------------------------\u001b[0m",
      "\u001b[1;31mValueError\u001b[0m                                Traceback (most recent call last)",
      "\u001b[1;32m<ipython-input-47-4ab4c319a1bd>\u001b[0m in \u001b[0;36m<module>\u001b[1;34m\u001b[0m\n\u001b[0;32m     36\u001b[0m \u001b[0mmodel\u001b[0m \u001b[1;33m=\u001b[0m \u001b[0mREPEN_Model\u001b[0m\u001b[1;33m(\u001b[0m\u001b[0mseed\u001b[0m\u001b[1;33m=\u001b[0m\u001b[1;36m42\u001b[0m\u001b[1;33m,\u001b[0m \u001b[0mmode\u001b[0m \u001b[1;33m=\u001b[0m \u001b[1;34m'semi_supervised'\u001b[0m\u001b[1;33m,\u001b[0m \u001b[0mn_epochs\u001b[0m\u001b[1;33m=\u001b[0m\u001b[1;36m3\u001b[0m\u001b[1;33m,\u001b[0m \u001b[0mbatch_size\u001b[0m\u001b[1;33m=\u001b[0m\u001b[1;36m8\u001b[0m\u001b[1;33m)\u001b[0m\u001b[1;33m\u001b[0m\u001b[1;33m\u001b[0m\u001b[0m\n\u001b[0;32m     37\u001b[0m \u001b[1;31m# network = create_model(config, input_dim=X.shape[1])\u001b[0m\u001b[1;33m\u001b[0m\u001b[1;33m\u001b[0m\u001b[1;33m\u001b[0m\u001b[0m\n\u001b[1;32m---> 38\u001b[1;33m \u001b[0mmodel\u001b[0m\u001b[1;33m.\u001b[0m\u001b[0mfit\u001b[0m\u001b[1;33m(\u001b[0m\u001b[0mX_train\u001b[0m\u001b[1;33m,\u001b[0m \u001b[0my_train_bin\u001b[0m\u001b[1;33m)\u001b[0m\u001b[1;33m\u001b[0m\u001b[1;33m\u001b[0m\u001b[0m\n\u001b[0m\u001b[0;32m     39\u001b[0m \u001b[1;33m\u001b[0m\u001b[0m\n\u001b[0;32m     40\u001b[0m \u001b[1;31m# 5. Predykcja\u001b[0m\u001b[1;33m\u001b[0m\u001b[1;33m\u001b[0m\u001b[1;33m\u001b[0m\u001b[0m\n",
      "\u001b[1;32mc:\\Users\\kaami\\anaconda3\\lib\\site-packages\\adbench\\baseline\\REPEN\\run.py\u001b[0m in \u001b[0;36mfit\u001b[1;34m(self, X_train, y_train, ratio)\u001b[0m\n\u001b[0;32m     45\u001b[0m \u001b[1;33m\u001b[0m\u001b[0m\n\u001b[0;32m     46\u001b[0m         \u001b[1;31m# fitting\u001b[0m\u001b[1;33m\u001b[0m\u001b[1;33m\u001b[0m\u001b[1;33m\u001b[0m\u001b[0m\n\u001b[1;32m---> 47\u001b[1;33m         \u001b[0mself\u001b[0m\u001b[1;33m.\u001b[0m\u001b[0mmodel\u001b[0m\u001b[1;33m.\u001b[0m\u001b[0mfit\u001b[0m\u001b[1;33m(\u001b[0m\u001b[0mX_train\u001b[0m\u001b[1;33m,\u001b[0m \u001b[0my_train\u001b[0m\u001b[1;33m)\u001b[0m\u001b[1;33m\u001b[0m\u001b[1;33m\u001b[0m\u001b[0m\n\u001b[0m\u001b[0;32m     48\u001b[0m \u001b[1;33m\u001b[0m\u001b[0m\n\u001b[0;32m     49\u001b[0m         \u001b[1;32mreturn\u001b[0m \u001b[0mself\u001b[0m\u001b[1;33m\u001b[0m\u001b[1;33m\u001b[0m\u001b[0m\n",
      "\u001b[1;32mc:\\Users\\kaami\\anaconda3\\lib\\site-packages\\adbench\\baseline\\REPEN\\model.py\u001b[0m in \u001b[0;36mfit\u001b[1;34m(self, x_train, y_train, verbose)\u001b[0m\n\u001b[0;32m    270\u001b[0m         \u001b[0mself\u001b[0m\u001b[1;33m.\u001b[0m\u001b[0mx_train\u001b[0m \u001b[1;33m=\u001b[0m \u001b[0mx_train\u001b[0m\u001b[1;33m\u001b[0m\u001b[1;33m\u001b[0m\u001b[0m\n\u001b[0;32m    271\u001b[0m         \u001b[0mself\u001b[0m\u001b[1;33m.\u001b[0m\u001b[0mprepare_data\u001b[0m\u001b[1;33m(\u001b[0m\u001b[0mx_train\u001b[0m\u001b[1;33m,\u001b[0m \u001b[0my_train\u001b[0m\u001b[1;33m)\u001b[0m\u001b[1;33m\u001b[0m\u001b[1;33m\u001b[0m\u001b[0m\n\u001b[1;32m--> 272\u001b[1;33m         self.network = self.Trainer.train(self.network, self.mode, x_train,\n\u001b[0m\u001b[0;32m    273\u001b[0m                                           \u001b[0mself\u001b[0m\u001b[1;33m.\u001b[0m\u001b[0mpositive_weights\u001b[0m\u001b[1;33m,\u001b[0m \u001b[0mself\u001b[0m\u001b[1;33m.\u001b[0m\u001b[0mnegative_weights\u001b[0m\u001b[1;33m,\u001b[0m\u001b[1;33m\u001b[0m\u001b[1;33m\u001b[0m\u001b[0m\n\u001b[0;32m    274\u001b[0m                                           \u001b[0mself\u001b[0m\u001b[1;33m.\u001b[0m\u001b[0minlier_ids\u001b[0m\u001b[1;33m,\u001b[0m \u001b[0mself\u001b[0m\u001b[1;33m.\u001b[0m\u001b[0moutlier_ids\u001b[0m\u001b[1;33m,\u001b[0m\u001b[1;33m\u001b[0m\u001b[1;33m\u001b[0m\u001b[0m\n",
      "\u001b[1;32mc:\\Users\\kaami\\anaconda3\\lib\\site-packages\\adbench\\baseline\\REPEN\\model.py\u001b[0m in \u001b[0;36mtrain\u001b[1;34m(self, network, mode, x_train, positive_weights, negative_weights, inlier_indices, outlier_indices, verbose)\u001b[0m\n\u001b[0;32m    158\u001b[0m                                        save_weights_only=True)\n\u001b[0;32m    159\u001b[0m \u001b[1;33m\u001b[0m\u001b[0m\n\u001b[1;32m--> 160\u001b[1;33m         network.model.fit_generator(self.batch_generator(x_train, positive_weights,\n\u001b[0m\u001b[0;32m    161\u001b[0m                                                          \u001b[0mnegative_weights\u001b[0m\u001b[1;33m,\u001b[0m\u001b[1;33m\u001b[0m\u001b[1;33m\u001b[0m\u001b[0m\n\u001b[0;32m    162\u001b[0m                                                          \u001b[0minlier_indices\u001b[0m\u001b[1;33m,\u001b[0m\u001b[1;33m\u001b[0m\u001b[1;33m\u001b[0m\u001b[0m\n",
      "\u001b[1;32mc:\\Users\\kaami\\anaconda3\\lib\\site-packages\\keras\\engine\\training.py\u001b[0m in \u001b[0;36mfit_generator\u001b[1;34m(self, generator, steps_per_epoch, epochs, verbose, callbacks, validation_data, validation_steps, validation_freq, class_weight, max_queue_size, workers, use_multiprocessing, shuffle, initial_epoch)\u001b[0m\n\u001b[0;32m   2634\u001b[0m             \u001b[0mstacklevel\u001b[0m\u001b[1;33m=\u001b[0m\u001b[1;36m2\u001b[0m\u001b[1;33m,\u001b[0m\u001b[1;33m\u001b[0m\u001b[1;33m\u001b[0m\u001b[0m\n\u001b[0;32m   2635\u001b[0m         )\n\u001b[1;32m-> 2636\u001b[1;33m         return self.fit(\n\u001b[0m\u001b[0;32m   2637\u001b[0m             \u001b[0mgenerator\u001b[0m\u001b[1;33m,\u001b[0m\u001b[1;33m\u001b[0m\u001b[1;33m\u001b[0m\u001b[0m\n\u001b[0;32m   2638\u001b[0m             \u001b[0msteps_per_epoch\u001b[0m\u001b[1;33m=\u001b[0m\u001b[0msteps_per_epoch\u001b[0m\u001b[1;33m,\u001b[0m\u001b[1;33m\u001b[0m\u001b[1;33m\u001b[0m\u001b[0m\n",
      "\u001b[1;32mc:\\Users\\kaami\\anaconda3\\lib\\site-packages\\keras\\utils\\traceback_utils.py\u001b[0m in \u001b[0;36merror_handler\u001b[1;34m(*args, **kwargs)\u001b[0m\n\u001b[0;32m     68\u001b[0m             \u001b[1;31m# To get the full stack trace, call:\u001b[0m\u001b[1;33m\u001b[0m\u001b[1;33m\u001b[0m\u001b[1;33m\u001b[0m\u001b[0m\n\u001b[0;32m     69\u001b[0m             \u001b[1;31m# `tf.debugging.disable_traceback_filtering()`\u001b[0m\u001b[1;33m\u001b[0m\u001b[1;33m\u001b[0m\u001b[1;33m\u001b[0m\u001b[0m\n\u001b[1;32m---> 70\u001b[1;33m             \u001b[1;32mraise\u001b[0m \u001b[0me\u001b[0m\u001b[1;33m.\u001b[0m\u001b[0mwith_traceback\u001b[0m\u001b[1;33m(\u001b[0m\u001b[0mfiltered_tb\u001b[0m\u001b[1;33m)\u001b[0m \u001b[1;32mfrom\u001b[0m \u001b[1;32mNone\u001b[0m\u001b[1;33m\u001b[0m\u001b[1;33m\u001b[0m\u001b[0m\n\u001b[0m\u001b[0;32m     71\u001b[0m         \u001b[1;32mfinally\u001b[0m\u001b[1;33m:\u001b[0m\u001b[1;33m\u001b[0m\u001b[1;33m\u001b[0m\u001b[0m\n\u001b[0;32m     72\u001b[0m             \u001b[1;32mdel\u001b[0m \u001b[0mfiltered_tb\u001b[0m\u001b[1;33m\u001b[0m\u001b[1;33m\u001b[0m\u001b[0m\n",
      "\u001b[1;32mc:\\Users\\kaami\\anaconda3\\lib\\site-packages\\adbench\\baseline\\REPEN\\model.py\u001b[0m in \u001b[0;36mbatch_generator\u001b[1;34m(self, X, positive_weights, negative_weights, inlier_ids, outlier_ids)\u001b[0m\n\u001b[0;32m     99\u001b[0m         \u001b[0mcounter\u001b[0m \u001b[1;33m=\u001b[0m \u001b[1;36m0\u001b[0m\u001b[1;33m\u001b[0m\u001b[1;33m\u001b[0m\u001b[0m\n\u001b[0;32m    100\u001b[0m         \u001b[1;32mwhile\u001b[0m \u001b[1;36m1\u001b[0m\u001b[1;33m:\u001b[0m\u001b[1;33m\u001b[0m\u001b[1;33m\u001b[0m\u001b[0m\n\u001b[1;32m--> 101\u001b[1;33m             X1, X2, X3 = self.tripletBatchGeneration(X, rng, positive_weights,\n\u001b[0m\u001b[0;32m    102\u001b[0m                                                      \u001b[0mnegative_weights\u001b[0m\u001b[1;33m,\u001b[0m\u001b[1;33m\u001b[0m\u001b[1;33m\u001b[0m\u001b[0m\n\u001b[0;32m    103\u001b[0m                                                      inlier_ids, outlier_ids)\n",
      "\u001b[1;32mc:\\Users\\kaami\\anaconda3\\lib\\site-packages\\adbench\\baseline\\REPEN\\model.py\u001b[0m in \u001b[0;36mtripletBatchGeneration\u001b[1;34m(self, X, rng, positive_weights, negative_weights, inlier_ids, outlier_ids)\u001b[0m\n\u001b[0;32m    117\u001b[0m         \u001b[0mnegatives\u001b[0m \u001b[1;33m=\u001b[0m \u001b[0mnp\u001b[0m\u001b[1;33m.\u001b[0m\u001b[0mzeros\u001b[0m\u001b[1;33m(\u001b[0m\u001b[1;33m[\u001b[0m\u001b[0mself\u001b[0m\u001b[1;33m.\u001b[0m\u001b[0mbatch_size\u001b[0m\u001b[1;33m]\u001b[0m\u001b[1;33m)\u001b[0m\u001b[1;33m.\u001b[0m\u001b[0mastype\u001b[0m\u001b[1;33m(\u001b[0m\u001b[1;34m'int'\u001b[0m\u001b[1;33m)\u001b[0m\u001b[1;33m\u001b[0m\u001b[1;33m\u001b[0m\u001b[0m\n\u001b[0;32m    118\u001b[0m \u001b[1;33m\u001b[0m\u001b[0m\n\u001b[1;32m--> 119\u001b[1;33m         \u001b[0mexamples\u001b[0m \u001b[1;33m=\u001b[0m \u001b[0mrng\u001b[0m\u001b[1;33m.\u001b[0m\u001b[0mchoice\u001b[0m\u001b[1;33m(\u001b[0m\u001b[0minlier_ids\u001b[0m\u001b[1;33m,\u001b[0m \u001b[0mself\u001b[0m\u001b[1;33m.\u001b[0m\u001b[0mbatch_size\u001b[0m\u001b[1;33m,\u001b[0m \u001b[0mp\u001b[0m\u001b[1;33m=\u001b[0m\u001b[0mpositive_weights\u001b[0m\u001b[1;33m)\u001b[0m\u001b[1;33m\u001b[0m\u001b[1;33m\u001b[0m\u001b[0m\n\u001b[0m\u001b[0;32m    120\u001b[0m         \u001b[0mpositives\u001b[0m \u001b[1;33m=\u001b[0m \u001b[0mrng\u001b[0m\u001b[1;33m.\u001b[0m\u001b[0mchoice\u001b[0m\u001b[1;33m(\u001b[0m\u001b[0minlier_ids\u001b[0m\u001b[1;33m,\u001b[0m \u001b[0mself\u001b[0m\u001b[1;33m.\u001b[0m\u001b[0mbatch_size\u001b[0m\u001b[1;33m)\u001b[0m\u001b[1;33m\u001b[0m\u001b[1;33m\u001b[0m\u001b[0m\n\u001b[0;32m    121\u001b[0m         \u001b[1;32mif\u001b[0m \u001b[1;33m(\u001b[0m\u001b[0mlen\u001b[0m\u001b[1;33m(\u001b[0m\u001b[0moutlier_ids\u001b[0m\u001b[1;33m)\u001b[0m \u001b[1;33m==\u001b[0m \u001b[1;36m2\u001b[0m\u001b[1;33m)\u001b[0m \u001b[1;32mand\u001b[0m \u001b[1;33m(\u001b[0m\u001b[0mtype\u001b[0m\u001b[1;33m(\u001b[0m\u001b[0moutlier_ids\u001b[0m\u001b[1;33m)\u001b[0m \u001b[1;33m==\u001b[0m \u001b[0mlist\u001b[0m\u001b[1;33m)\u001b[0m\u001b[1;33m:\u001b[0m\u001b[1;33m\u001b[0m\u001b[1;33m\u001b[0m\u001b[0m\n",
      "\u001b[1;32mmtrand.pyx\u001b[0m in \u001b[0;36mnumpy.random.mtrand.RandomState.choice\u001b[1;34m()\u001b[0m\n",
      "\u001b[1;31mValueError\u001b[0m: 'a' cannot be empty unless no samples are taken"
     ]
    }
   ],
   "source": [
    "import numpy as np\n",
    "from sklearn.datasets import load_iris\n",
    "from sklearn.model_selection import train_test_split\n",
    "from adbench.baseline.REPEN.run import REPEN as REPEN_Model\n",
    "# from adbench.baseline.REPEN.utils import create_model\n",
    "from sklearn.metrics import classification_report\n",
    "\n",
    "# 1. Załaduj dane (klasy 0 i 1 tylko)\n",
    "X, y = load_iris(return_X_y=True)\n",
    "X, y = X[y < 2], y[y < 2]\n",
    "\n",
    "# 2. Podział na train/test\n",
    "X_train, X_test, y_train, y_test = train_test_split(\n",
    "    X.astype(np.float32),\n",
    "    y.astype(np.int32),\n",
    "    test_size=0.3,\n",
    "    stratify=y,\n",
    "    random_state=42\n",
    ")\n",
    "\n",
    "# 3. Binary labels (0 = normalne, 1 = anomalie)\n",
    "y_train_bin = (y_train == 1).astype(int)\n",
    "y_test_bin = (y_test == 1).astype(int)\n",
    "\n",
    "# 4. Stwórz model REPEN z małym batch_size\n",
    "config = {\n",
    "    'hidden_size': [20],\n",
    "    'batch_size': 16,         # << KLUCZOWE\n",
    "    'n_epochs': 5,\n",
    "    'learning_rate': 1e-3,\n",
    "    'weight_decay': 1e-5,\n",
    "    'mode': 'semi_supervised',\n",
    "    'verbose': True\n",
    "}\n",
    "\n",
    "model = REPEN_Model(seed=42, mode = 'semi_supervised', n_epochs=3, batch_size=8)\n",
    "# network = create_model(config, input_dim=X.shape[1])\n",
    "model.fit(X_train, y_train_bin)\n",
    "\n",
    "# 5. Predykcja\n",
    "scores = model.decision_function(X_test)\n",
    "y_pred = (scores > 0.5).astype(int)\n",
    "\n",
    "# 6. Raport\n",
    "print(\"Score:\", scores)\n",
    "print(classification_report(y_test_bin, y_pred))\n"
   ]
  },
  {
   "cell_type": "markdown",
   "metadata": {},
   "source": [
    "## DeepSVDD"
   ]
  },
  {
   "cell_type": "code",
   "execution_count": 6,
   "metadata": {},
   "outputs": [
    {
     "name": "stdout",
     "output_type": "stream",
     "text": [
      "Epoch 1/4, Loss: 1.9810851216316223\n",
      "Epoch 2/4, Loss: 1.8542762398719788\n",
      "Epoch 3/4, Loss: 2.054482400417328\n",
      "Epoch 4/4, Loss: 1.8232354521751404\n",
      "[1 1 1 1 0 0 0 1 0 0 0 1 0 0 0 1 1 0 1 1]\n",
      "[1 1 1 1 0 1 0 1 0 1 0 1 0 1 0 1 1 0 1 1]\n",
      "[[0.         1.        ]\n",
      " [0.         1.        ]\n",
      " [0.         1.        ]\n",
      " [0.         1.        ]\n",
      " [1.         0.        ]\n",
      " [0.38400638 0.61599362]\n",
      " [0.88631117 0.11368883]\n",
      " [0.         1.        ]\n",
      " [0.82622339 0.17377661]\n",
      " [0.28905475 0.71094525]\n",
      " [0.62636611 0.37363389]\n",
      " [0.         1.        ]\n",
      " [0.98377665 0.01622335]\n",
      " [0.53291056 0.46708944]\n",
      " [0.91153913 0.08846087]\n",
      " [0.         1.        ]\n",
      " [0.         1.        ]\n",
      " [0.97847327 0.02152673]\n",
      " [0.         1.        ]\n",
      " [0.         1.        ]]\n"
     ]
    }
   ],
   "source": [
    "from pyod.models.deep_svdd import DeepSVDD\n",
    "clf = DeepSVDD(n_features=4 , contamination=0.1, epochs=4)\n",
    "clf.fit(X_train[y_train==0])\n",
    "\n",
    "# predykcja (1 = anomalia, 0 = normalne)\n",
    "y_pred = clf.predict(X_test)\n",
    "print(y_test)\n",
    "print(y_pred)\n",
    "print(clf.predict_proba(X_test))"
   ]
  },
  {
   "cell_type": "markdown",
   "metadata": {},
   "source": [
    "## DAGMM"
   ]
  },
  {
   "cell_type": "markdown",
   "metadata": {},
   "source": [
    "We train the DAGMM\n",
    "for 200 epochs with 256 batch size, where the patience of early stopping is set to 50. \n",
    "\n",
    "The learning\n",
    "rate of Adam [77] optimizer is 0.0001 and is decayed once the number of epochs reaches 50. \n",
    "\n",
    "The\n",
    "latent dimension of DAGMM is set to 1 and the number of Gaussian mixture components is set\n",
    "to 4. \n",
    "\n",
    "The λ1 and λ2 for energy and covariance in the objective function are set to 0.1 and 0.005,\n",
    "respectively."
   ]
  },
  {
   "cell_type": "code",
   "execution_count": 33,
   "metadata": {},
   "outputs": [
    {
     "name": "stdout",
     "output_type": "stream",
     "text": [
      "using the params: 4\n",
      "Testing...\n",
      "[1 1 1 1 0 0 0 1 0 0 0 1 0 0 0 1 1 0 1 1]\n",
      "[ 28  28  28  28 -11  -6  -8  28  -8  -4  -7  28 -11  -8 -11  28  28 -11\n",
      "  28  28]\n",
      "[ 27.631021   27.631021   27.631021   27.631021  -11.410937   -6.2789845\n",
      "  -8.4208765  27.631021   -7.9916368  -3.5636723  -6.8902154  27.631021\n",
      " -11.35948    -7.900032  -10.56761    27.631021   27.631021  -10.946327\n",
      "  27.631021   27.631021 ]\n"
     ]
    }
   ],
   "source": [
    "from adbench.baseline.DAGMM.run import DAGMM\n",
    "model = DAGMM(seed=42, num_epochs=4, patience=1, batch_size=4)\n",
    "model.fit(X_train=X_train[y_train==0], y_train=np.repeat(0, X_train.shape[0]))  # fit\n",
    "score = model.predict_score(X_train[y_train==0], X_test)  # predict\n",
    "print(y_test)\n",
    "print(np.round(score).astype(int))\n",
    "print(score)"
   ]
  },
  {
   "cell_type": "markdown",
   "metadata": {},
   "source": [
    "funkcja logit"
   ]
  },
  {
   "cell_type": "code",
   "execution_count": 34,
   "metadata": {},
   "outputs": [
    {
     "name": "stdout",
     "output_type": "stream",
     "text": [
      "using the params: 4\n",
      "Testing...\n",
      "[1 1 1 1 0 0 0 1 0 0 0 1 0 0 0 1 1 0 1 1]\n",
      "[ -9  -9  -9  -9 -10  -3 -10  -9  -8  -9  -6  -9 -10  -6  -9  -9 -10  -9\n",
      "  -9  -8]\n",
      "[-8.800342  -9.01744   -9.184917  -9.28353   -9.971402  -2.800013\n",
      " -9.799926  -9.203053  -7.5901213 -9.101178  -6.1197586 -9.400011\n",
      " -9.855598  -6.491729  -8.845618  -8.858022  -9.887117  -9.351005\n",
      " -8.703335  -7.6525674]\n"
     ]
    }
   ],
   "source": [
    "from adbench.baseline.DAGMM.run import DAGMM\n",
    "model = DAGMM(seed=42, num_epochs=4, patience=1, batch_size=4)\n",
    "model.fit(X_train=X_train, y_train=np.repeat(0, X_train.shape[0]))  # fit\n",
    "score = model.predict_score(X_train, X_test)  # predict\n",
    "print(y_test)\n",
    "print(np.round(score).astype(int))\n",
    "print(score)"
   ]
  },
  {
   "cell_type": "markdown",
   "metadata": {},
   "source": [
    "# Extension"
   ]
  },
  {
   "cell_type": "markdown",
   "metadata": {},
   "source": [
    "## DevNet"
   ]
  },
  {
   "attachments": {
    "image.png": {
     "image/png": "[encoded data removed]"
    }
   },
   "cell_type": "markdown",
   "metadata": {},
   "source": [
    "![image.png](attachment:image.png)"
   ]
  },
  {
   "cell_type": "code",
   "execution_count": 12,
   "metadata": {},
   "outputs": [],
   "source": [
    "from pyod.models.devnet import DevNet\n",
    "from sklearn.model_selection import train_test_split\n",
    "from sklearn.preprocessing import StandardScaler, MinMaxScaler\n",
    "from sklearn.datasets import load_iris\n",
    "import numpy as np\n",
    "\n",
    "# Przykładowe dane (binarna klasyfikacja)\n",
    "X, y = load_iris(return_X_y=True)\n",
    "X, y = X[y < 2], y[y < 2]  # Tylko klasy 0 i 1\n",
    "\n",
    "# Podział na zbiór treningowy i testowy (z założeniem, że klasa 1 to anomalie)\n",
    "X_train, X_test, y_train, y_test = train_test_split(\n",
    "    X, y, test_size=0.3, stratify=y, random_state=42\n",
    ")\n",
    "\n",
    "scaler = MinMaxScaler()\n",
    "X_train = scaler.fit_transform(X_train)\n",
    "X_test = scaler.transform(X_test)\n"
   ]
  },
  {
   "cell_type": "code",
   "execution_count": 2,
   "metadata": {},
   "outputs": [
    {
     "data": {
      "text/plain": [
       "array([1, 1, 1, 1, 1, 0, 1, 1, 1, 0, 0, 0, 1, 0, 1, 0, 0, 0, 0, 1, 0, 0,\n",
       "       1, 1, 0, 0, 0, 1, 0, 0, 1, 0, 1, 1, 0, 1, 1, 1, 0, 1, 1, 0, 0, 1,\n",
       "       1, 0, 1, 0, 0, 1, 1, 1, 1, 0, 0, 1, 1, 1, 0, 0, 1, 0, 0, 0, 1, 0,\n",
       "       0, 1, 0, 0])"
      ]
     },
     "execution_count": 2,
     "metadata": {},
     "output_type": "execute_result"
    }
   ],
   "source": [
    "y_train"
   ]
  },
  {
   "cell_type": "code",
   "execution_count": null,
   "metadata": {},
   "outputs": [
    {
     "name": "stdout",
     "output_type": "stream",
     "text": [
      "Original training size: 70, No. outliers: 35\n",
      "70 35 35 3\n",
      "Epoch 1, Loss: 0.7135047316551208\n",
      "Epoch 2, Loss: -6.826750755310059\n",
      "Epoch 3, Loss: -12.602255821228027\n",
      "Epoch 4, Loss: -17.80849266052246\n",
      "Epoch 5, Loss: -22.77667808532715\n",
      "Epoch 6, Loss: -27.54973793029785\n",
      "Epoch 7, Loss: -32.410186767578125\n",
      "Epoch 8, Loss: -37.40996170043945\n",
      "Epoch 9, Loss: -42.706703186035156\n",
      "Epoch 10, Loss: -47.36594772338867\n",
      "Epoch 11, Loss: -52.951637268066406\n",
      "Epoch 12, Loss: -58.07380676269531\n",
      "Epoch 13, Loss: -63.6349983215332\n",
      "Epoch 14, Loss: -69.40592193603516\n",
      "Epoch 15, Loss: -74.97459411621094\n",
      "Epoch 16, Loss: -79.60542297363281\n",
      "Epoch 17, Loss: -85.15933990478516\n",
      "Epoch 18, Loss: -91.54652404785156\n",
      "Epoch 19, Loss: -97.55887603759766\n",
      "Epoch 20, Loss: -103.35496520996094\n",
      "Epoch 21, Loss: -109.90081787109375\n",
      "Epoch 22, Loss: -115.98217010498047\n",
      "Epoch 23, Loss: -121.75666046142578\n",
      "Epoch 24, Loss: -127.82492065429688\n",
      "Epoch 25, Loss: -134.41018676757812\n",
      "Epoch 26, Loss: -140.0321502685547\n",
      "Epoch 27, Loss: -144.60494995117188\n",
      "Epoch 28, Loss: -151.10450744628906\n",
      "Epoch 29, Loss: -158.50804138183594\n",
      "Epoch 30, Loss: -163.5720672607422\n",
      "Epoch 31, Loss: -171.0199432373047\n",
      "Epoch 32, Loss: -176.49972534179688\n",
      "Epoch 33, Loss: -183.5772705078125\n",
      "Epoch 34, Loss: -188.0835723876953\n",
      "Epoch 35, Loss: -197.63331604003906\n",
      "Epoch 36, Loss: -204.85137939453125\n",
      "Epoch 37, Loss: -209.95835876464844\n",
      "Epoch 38, Loss: -215.34239196777344\n",
      "Epoch 39, Loss: -221.31275939941406\n",
      "Epoch 40, Loss: -230.4033966064453\n",
      "Epoch 41, Loss: -237.3595733642578\n",
      "Epoch 42, Loss: -244.35862731933594\n",
      "Epoch 43, Loss: -251.12777709960938\n",
      "Epoch 44, Loss: -256.5267028808594\n",
      "Epoch 45, Loss: -263.6981506347656\n",
      "Epoch 46, Loss: -272.27032470703125\n",
      "Epoch 47, Loss: -274.9598083496094\n",
      "Epoch 48, Loss: -285.26959228515625\n",
      "Epoch 49, Loss: -292.1195373535156\n",
      "Epoch 50, Loss: -299.2102966308594\n",
      "[0 0 1 0 0 1 1 1 1 0 1 1 0 0 1 1 0 0 1 0 0 0 1 1 0 0 1 1 1 0]\n",
      "[1 0 0 0 1 0 0 0 0 0 0 0 0 0 0 0 0 0 0 0 0 0 0 0 1 0 0 0 0 0]\n"
     ]
    },
    {
     "name": "stderr",
     "output_type": "stream",
     "text": [
      "c:\\Users\\kaami\\anaconda3\\lib\\site-packages\\pyod\\models\\devnet.py:187: UserWarning: To copy construct from a tensor, it is recommended to use sourceTensor.clone().detach() or sourceTensor.clone().detach().requires_grad_(True), rather than torch.tensor(sourceTensor).\n",
      "  x_test = torch.tensor(x_test, dtype=torch.float32)\n",
      "c:\\Users\\kaami\\anaconda3\\lib\\site-packages\\pyod\\models\\devnet.py:187: UserWarning: To copy construct from a tensor, it is recommended to use sourceTensor.clone().detach() or sourceTensor.clone().detach().requires_grad_(True), rather than torch.tensor(sourceTensor).\n",
      "  x_test = torch.tensor(x_test, dtype=torch.float32)\n",
      "c:\\Users\\kaami\\anaconda3\\lib\\site-packages\\pyod\\models\\devnet.py:187: UserWarning: To copy construct from a tensor, it is recommended to use sourceTensor.clone().detach() or sourceTensor.clone().detach().requires_grad_(True), rather than torch.tensor(sourceTensor).\n",
      "  x_test = torch.tensor(x_test, dtype=torch.float32)\n"
     ]
    }
   ],
   "source": [
    "model = DevNet()\n",
    "\n",
    "model.fit(X_train, y_train)\n",
    "y_test_scores = model.decision_function(X_test)  # Wynik anomalii\n",
    "y_test_pred = model.predict(X_test)  # Binary prediction (0/1)\n",
    "model.pre\n",
    "# Ocena\n",
    "print(y_test)\n",
    "print(y_test_pred)"
   ]
  },
  {
   "cell_type": "markdown",
   "metadata": {},
   "source": [
    "Co ze skalowaniem danych"
   ]
  },
  {
   "cell_type": "markdown",
   "metadata": {},
   "source": [
    "## DeepSAD"
   ]
  },
  {
   "cell_type": "code",
   "execution_count": 13,
   "metadata": {},
   "outputs": [
    {
     "ename": "AttributeError",
     "evalue": "module 'torch' has no attribute 'SymInt'",
     "output_type": "error",
     "traceback": [
      "\u001b[1;31m---------------------------------------------------------------------------\u001b[0m",
      "\u001b[1;31mAttributeError\u001b[0m                            Traceback (most recent call last)",
      "\u001b[1;32m<ipython-input-13-b2d6265c35f6>\u001b[0m in \u001b[0;36m<module>\u001b[1;34m\u001b[0m\n\u001b[1;32m----> 1\u001b[1;33m \u001b[1;32mfrom\u001b[0m \u001b[0madbench\u001b[0m\u001b[1;33m.\u001b[0m\u001b[0mbaseline\u001b[0m\u001b[1;33m.\u001b[0m\u001b[0mDeepSAD\u001b[0m\u001b[1;33m.\u001b[0m\u001b[0msrc\u001b[0m\u001b[1;33m.\u001b[0m\u001b[0mrun\u001b[0m \u001b[1;32mimport\u001b[0m \u001b[0mDeepSAD\u001b[0m\u001b[1;33m\u001b[0m\u001b[1;33m\u001b[0m\u001b[0m\n\u001b[0m\u001b[0;32m      2\u001b[0m \u001b[0mmodel\u001b[0m \u001b[1;33m=\u001b[0m \u001b[0mDeepSAD\u001b[0m\u001b[1;33m(\u001b[0m\u001b[0mseed\u001b[0m\u001b[1;33m=\u001b[0m\u001b[1;36m42\u001b[0m\u001b[1;33m)\u001b[0m\u001b[1;33m\u001b[0m\u001b[1;33m\u001b[0m\u001b[0m\n\u001b[0;32m      3\u001b[0m \u001b[0mmodel\u001b[0m\u001b[1;33m.\u001b[0m\u001b[0mfit\u001b[0m\u001b[1;33m(\u001b[0m\u001b[0mX_train\u001b[0m\u001b[1;33m,\u001b[0m \u001b[0my_train\u001b[0m\u001b[1;33m)\u001b[0m  \u001b[1;31m# fit\u001b[0m\u001b[1;33m\u001b[0m\u001b[1;33m\u001b[0m\u001b[0m\n\u001b[0;32m      4\u001b[0m \u001b[0mscore\u001b[0m \u001b[1;33m=\u001b[0m \u001b[0mmodel\u001b[0m\u001b[1;33m.\u001b[0m\u001b[0mpredict_score\u001b[0m\u001b[1;33m(\u001b[0m\u001b[0mX_test\u001b[0m\u001b[1;33m)\u001b[0m  \u001b[1;31m# predict\u001b[0m\u001b[1;33m\u001b[0m\u001b[1;33m\u001b[0m\u001b[0m\n\u001b[0;32m      5\u001b[0m \u001b[0mprint\u001b[0m\u001b[1;33m(\u001b[0m\u001b[0my_test\u001b[0m\u001b[1;33m)\u001b[0m\u001b[1;33m\u001b[0m\u001b[1;33m\u001b[0m\u001b[0m\n",
      "\u001b[1;32mc:\\Users\\kaami\\anaconda3\\lib\\site-packages\\adbench\\baseline\\DeepSAD\\src\\run.py\u001b[0m in \u001b[0;36m<module>\u001b[1;34m\u001b[0m\n\u001b[0;32m      6\u001b[0m \u001b[1;32mimport\u001b[0m \u001b[0mos\u001b[0m\u001b[1;33m\u001b[0m\u001b[1;33m\u001b[0m\u001b[0m\n\u001b[0;32m      7\u001b[0m \u001b[1;32mfrom\u001b[0m \u001b[1;33m.\u001b[0m\u001b[0mutils\u001b[0m\u001b[1;33m.\u001b[0m\u001b[0mconfig\u001b[0m \u001b[1;32mimport\u001b[0m \u001b[0mConfig\u001b[0m\u001b[1;33m\u001b[0m\u001b[1;33m\u001b[0m\u001b[0m\n\u001b[1;32m----> 8\u001b[1;33m \u001b[1;32mfrom\u001b[0m \u001b[1;33m.\u001b[0m\u001b[0mutils\u001b[0m\u001b[1;33m.\u001b[0m\u001b[0mvisualization\u001b[0m\u001b[1;33m.\u001b[0m\u001b[0mplot_images_grid\u001b[0m \u001b[1;32mimport\u001b[0m \u001b[0mplot_images_grid\u001b[0m\u001b[1;33m\u001b[0m\u001b[1;33m\u001b[0m\u001b[0m\n\u001b[0m\u001b[0;32m      9\u001b[0m \u001b[1;32mfrom\u001b[0m \u001b[1;33m.\u001b[0m\u001b[0mdeepsad\u001b[0m \u001b[1;32mimport\u001b[0m \u001b[0mdeepsad\u001b[0m\u001b[1;33m\u001b[0m\u001b[1;33m\u001b[0m\u001b[0m\n\u001b[0;32m     10\u001b[0m \u001b[1;32mfrom\u001b[0m \u001b[1;33m.\u001b[0m\u001b[0mdatasets\u001b[0m\u001b[1;33m.\u001b[0m\u001b[0mmain\u001b[0m \u001b[1;32mimport\u001b[0m \u001b[0mload_dataset\u001b[0m\u001b[1;33m\u001b[0m\u001b[1;33m\u001b[0m\u001b[0m\n",
      "\u001b[1;32mc:\\Users\\kaami\\anaconda3\\lib\\site-packages\\adbench\\baseline\\DeepSAD\\src\\utils\\visualization\\plot_images_grid.py\u001b[0m in \u001b[0;36m<module>\u001b[1;34m\u001b[0m\n\u001b[0;32m      5\u001b[0m \u001b[1;32mimport\u001b[0m \u001b[0mmatplotlib\u001b[0m\u001b[1;33m.\u001b[0m\u001b[0mpyplot\u001b[0m \u001b[1;32mas\u001b[0m \u001b[0mplt\u001b[0m\u001b[1;33m\u001b[0m\u001b[1;33m\u001b[0m\u001b[0m\n\u001b[0;32m      6\u001b[0m \u001b[1;32mimport\u001b[0m \u001b[0mnumpy\u001b[0m \u001b[1;32mas\u001b[0m \u001b[0mnp\u001b[0m\u001b[1;33m\u001b[0m\u001b[1;33m\u001b[0m\u001b[0m\n\u001b[1;32m----> 7\u001b[1;33m \u001b[1;32mfrom\u001b[0m \u001b[0mtorchvision\u001b[0m\u001b[1;33m.\u001b[0m\u001b[0mutils\u001b[0m \u001b[1;32mimport\u001b[0m \u001b[0mmake_grid\u001b[0m\u001b[1;33m\u001b[0m\u001b[1;33m\u001b[0m\u001b[0m\n\u001b[0m\u001b[0;32m      8\u001b[0m \u001b[1;33m\u001b[0m\u001b[0m\n\u001b[0;32m      9\u001b[0m \u001b[1;33m\u001b[0m\u001b[0m\n",
      "\u001b[1;32mc:\\Users\\kaami\\anaconda3\\lib\\site-packages\\torchvision\\__init__.py\u001b[0m in \u001b[0;36m<module>\u001b[1;34m\u001b[0m\n\u001b[0;32m      4\u001b[0m \u001b[1;33m\u001b[0m\u001b[0m\n\u001b[0;32m      5\u001b[0m \u001b[1;32mimport\u001b[0m \u001b[0mtorch\u001b[0m\u001b[1;33m\u001b[0m\u001b[1;33m\u001b[0m\u001b[0m\n\u001b[1;32m----> 6\u001b[1;33m \u001b[1;32mfrom\u001b[0m \u001b[0mtorchvision\u001b[0m \u001b[1;32mimport\u001b[0m \u001b[0m_meta_registrations\u001b[0m\u001b[1;33m,\u001b[0m \u001b[0mdatasets\u001b[0m\u001b[1;33m,\u001b[0m \u001b[0mio\u001b[0m\u001b[1;33m,\u001b[0m \u001b[0mmodels\u001b[0m\u001b[1;33m,\u001b[0m \u001b[0mops\u001b[0m\u001b[1;33m,\u001b[0m \u001b[0mtransforms\u001b[0m\u001b[1;33m,\u001b[0m \u001b[0mutils\u001b[0m\u001b[1;33m\u001b[0m\u001b[1;33m\u001b[0m\u001b[0m\n\u001b[0m\u001b[0;32m      7\u001b[0m \u001b[1;33m\u001b[0m\u001b[0m\n\u001b[0;32m      8\u001b[0m \u001b[1;32mfrom\u001b[0m \u001b[1;33m.\u001b[0m\u001b[0mextension\u001b[0m \u001b[1;32mimport\u001b[0m \u001b[0m_HAS_OPS\u001b[0m\u001b[1;33m\u001b[0m\u001b[1;33m\u001b[0m\u001b[0m\n",
      "\u001b[1;32mc:\\Users\\kaami\\anaconda3\\lib\\site-packages\\torchvision\\_meta_registrations.py\u001b[0m in \u001b[0;36m<module>\u001b[1;34m\u001b[0m\n\u001b[0;32m      2\u001b[0m \u001b[1;33m\u001b[0m\u001b[0m\n\u001b[0;32m      3\u001b[0m \u001b[1;32mimport\u001b[0m \u001b[0mtorch\u001b[0m\u001b[1;33m\u001b[0m\u001b[1;33m\u001b[0m\u001b[0m\n\u001b[1;32m----> 4\u001b[1;33m \u001b[1;32mimport\u001b[0m \u001b[0mtorch\u001b[0m\u001b[1;33m.\u001b[0m\u001b[0m_custom_ops\u001b[0m\u001b[1;33m\u001b[0m\u001b[1;33m\u001b[0m\u001b[0m\n\u001b[0m\u001b[0;32m      5\u001b[0m \u001b[1;32mimport\u001b[0m \u001b[0mtorch\u001b[0m\u001b[1;33m.\u001b[0m\u001b[0mlibrary\u001b[0m\u001b[1;33m\u001b[0m\u001b[1;33m\u001b[0m\u001b[0m\n\u001b[0;32m      6\u001b[0m \u001b[1;33m\u001b[0m\u001b[0m\n",
      "\u001b[1;32mc:\\Users\\kaami\\anaconda3\\lib\\site-packages\\torch\\_custom_ops.py\u001b[0m in \u001b[0;36m<module>\u001b[1;34m\u001b[0m\n\u001b[0;32m      1\u001b[0m \u001b[1;32mimport\u001b[0m \u001b[0minspect\u001b[0m\u001b[1;33m\u001b[0m\u001b[1;33m\u001b[0m\u001b[0m\n\u001b[0;32m      2\u001b[0m \u001b[1;33m\u001b[0m\u001b[0m\n\u001b[1;32m----> 3\u001b[1;33m from torch._custom_op.impl import (\n\u001b[0m\u001b[0;32m      4\u001b[0m     \u001b[0m_custom_op_with_schema\u001b[0m\u001b[1;33m,\u001b[0m\u001b[1;33m\u001b[0m\u001b[1;33m\u001b[0m\u001b[0m\n\u001b[0;32m      5\u001b[0m     \u001b[0m_find_custom_op\u001b[0m\u001b[1;33m,\u001b[0m\u001b[1;33m\u001b[0m\u001b[1;33m\u001b[0m\u001b[0m\n",
      "\u001b[1;32mc:\\Users\\kaami\\anaconda3\\lib\\site-packages\\torch\\_custom_op\\impl.py\u001b[0m in \u001b[0;36m<module>\u001b[1;34m\u001b[0m\n\u001b[0;32m    813\u001b[0m \u001b[1;33m\u001b[0m\u001b[0m\n\u001b[0;32m    814\u001b[0m \u001b[1;33m\u001b[0m\u001b[0m\n\u001b[1;32m--> 815\u001b[1;33m \u001b[1;32mclass\u001b[0m \u001b[0mAbstractImplCtx\u001b[0m\u001b[1;33m:\u001b[0m\u001b[1;33m\u001b[0m\u001b[1;33m\u001b[0m\u001b[0m\n\u001b[0m\u001b[0;32m    816\u001b[0m     \"\"\"\n\u001b[0;32m    817\u001b[0m     \u001b[0mContext\u001b[0m \u001b[0mobject\u001b[0m \u001b[1;32mfor\u001b[0m \u001b[0mwriting\u001b[0m \u001b[0mabstract\u001b[0m \u001b[0mimplementations\u001b[0m \u001b[1;32mfor\u001b[0m \u001b[0mcustom\u001b[0m \u001b[0moperators\u001b[0m\u001b[1;33m.\u001b[0m\u001b[1;33m\u001b[0m\u001b[1;33m\u001b[0m\u001b[0m\n",
      "\u001b[1;32mc:\\Users\\kaami\\anaconda3\\lib\\site-packages\\torch\\_custom_op\\impl.py\u001b[0m in \u001b[0;36mAbstractImplCtx\u001b[1;34m()\u001b[0m\n\u001b[0;32m    822\u001b[0m         \u001b[0mself\u001b[0m\u001b[1;33m.\u001b[0m\u001b[0m_op\u001b[0m \u001b[1;33m=\u001b[0m \u001b[0m_op\u001b[0m\u001b[1;33m\u001b[0m\u001b[1;33m\u001b[0m\u001b[0m\n\u001b[0;32m    823\u001b[0m \u001b[1;33m\u001b[0m\u001b[0m\n\u001b[1;32m--> 824\u001b[1;33m     \u001b[1;32mdef\u001b[0m \u001b[0mcreate_unbacked_symint\u001b[0m\u001b[1;33m(\u001b[0m\u001b[0mself\u001b[0m\u001b[1;33m,\u001b[0m \u001b[1;33m*\u001b[0m\u001b[1;33m,\u001b[0m \u001b[0mmin\u001b[0m\u001b[1;33m=\u001b[0m\u001b[1;36m2\u001b[0m\u001b[1;33m,\u001b[0m \u001b[0mmax\u001b[0m\u001b[1;33m=\u001b[0m\u001b[1;32mNone\u001b[0m\u001b[1;33m)\u001b[0m \u001b[1;33m->\u001b[0m \u001b[0mtorch\u001b[0m\u001b[1;33m.\u001b[0m\u001b[0mSymInt\u001b[0m\u001b[1;33m:\u001b[0m\u001b[1;33m\u001b[0m\u001b[1;33m\u001b[0m\u001b[0m\n\u001b[0m\u001b[0;32m    825\u001b[0m         \"\"\"Constructs a new symint (symbolic int) representing a data-dependent value.\n\u001b[0;32m    826\u001b[0m \u001b[1;33m\u001b[0m\u001b[0m\n",
      "\u001b[1;31mAttributeError\u001b[0m: module 'torch' has no attribute 'SymInt'"
     ]
    }
   ],
   "source": [
    "from adbench.baseline.DeepSAD.src.run import DeepSAD\n",
    "model = DeepSAD(seed=42)\n",
    "model.fit(X_train, y_train)  # fit\n",
    "score = model.predict_score(X_test)  # predict\n",
    "print(y_test)\n",
    "print(np.round(score).astype(int))\n",
    "print(np.sum(np.abs(y_test-np.round(score))))\n",
    "print(score)"
   ]
  },
  {
   "cell_type": "code",
   "execution_count": null,
   "metadata": {},
   "outputs": [],
   "source": [
    "np.rand"
   ]
  },
  {
   "cell_type": "markdown",
   "metadata": {},
   "source": [
    "## SO_GAAL"
   ]
  },
  {
   "cell_type": "code",
   "execution_count": 37,
   "metadata": {},
   "outputs": [
    {
     "name": "stdout",
     "output_type": "stream",
     "text": [
      "Epoch 1 of 12\n",
      "Epoch 2 of 12\n",
      "Epoch 3 of 12\n",
      "Epoch 4 of 12\n",
      "Epoch 5 of 12\n",
      "Epoch 6 of 12\n",
      "Epoch 7 of 12\n",
      "Epoch 8 of 12\n",
      "Epoch 9 of 12\n",
      "Epoch 10 of 12\n",
      "Epoch 11 of 12\n",
      "Epoch 12 of 12\n",
      "[1 1 1 0 0 0 0 1 0 0 0 0 1 0 1 0 1 1 0 0 1 1 0 0 1]\n",
      "[1 1 1 0 1 0 0 1 0 0 1 0 1 0 1 0 1 1 0 0 1 1 0 0 1]\n",
      "[[0.         1.        ]\n",
      " [0.         1.        ]\n",
      " [0.         1.        ]\n",
      " [0.46855354 0.53144646]\n",
      " [0.         1.        ]\n",
      " [0.27562904 0.72437096]\n",
      " [0.81807804 0.18192196]\n",
      " [0.         1.        ]\n",
      " [0.17323875 0.82676125]\n",
      " [0.33289909 0.66710091]\n",
      " [0.         1.        ]\n",
      " [0.31318283 0.68681717]\n",
      " [0.         1.        ]\n",
      " [0.14704895 0.85295105]\n",
      " [0.         1.        ]\n",
      " [0.33646011 0.66353989]\n",
      " [0.         1.        ]\n",
      " [0.         1.        ]\n",
      " [0.52411556 0.47588444]\n",
      " [0.17737198 0.82262802]\n",
      " [0.         1.        ]\n",
      " [0.         1.        ]\n",
      " [0.18382263 0.81617737]\n",
      " [0.65272617 0.34727383]\n",
      " [0.         1.        ]]\n"
     ]
    }
   ],
   "source": [
    "from pyod.models.so_gaal import SO_GAAL\n",
    "clf = SO_GAAL(contamination=0.1, stop_epochs=4)\n",
    "clf.fit(X_train[y_train==0])\n",
    "\n",
    "y_pred = clf.predict(X_test)\n",
    "print(y_test)\n",
    "print(y_pred)\n",
    "print(clf.predict_proba(X_test))"
   ]
  },
  {
   "cell_type": "markdown",
   "metadata": {},
   "source": [
    "## LUNAR"
   ]
  },
  {
   "cell_type": "code",
   "execution_count": 5,
   "metadata": {},
   "outputs": [
    {
     "name": "stdout",
     "output_type": "stream",
     "text": [
      "[1 1 1 0 0 0 0 1 0 0 0 0 1 0 1 0 1 1 0 0 1 1 0 0 1]\n",
      "[1 1 1 0 0 0 1 1 0 0 1 0 1 1 1 0 1 1 0 0 1 1 0 0 1]\n"
     ]
    }
   ],
   "source": [
    "from pyod.models.lunar import LUNAR\n",
    "clf = LUNAR()\n",
    "clf.fit(X_train[y_train==0])\n",
    "\n",
    "# predykcja (1 = anomalia, 0 = normalne)\n",
    "y_pred = clf.predict(X_test)\n",
    "print(y_test)\n",
    "print(y_pred)"
   ]
  },
  {
   "cell_type": "markdown",
   "metadata": {},
   "source": [
    "## FEAWAD"
   ]
  },
  {
   "cell_type": "code",
   "execution_count": 14,
   "metadata": {},
   "outputs": [
    {
     "name": "stdout",
     "output_type": "stream",
     "text": [
      "autoencoder pre-training start....\n",
      "Epoch 1/100\n"
     ]
    },
    {
     "name": "stderr",
     "output_type": "stream",
     "text": [
      "c:\\Users\\kaami\\anaconda3\\lib\\site-packages\\keras\\optimizers\\legacy\\adam.py:117: UserWarning: The `lr` argument is deprecated, use `learning_rate` instead.\n",
      "  super().__init__(name, **kwargs)\n",
      "c:\\Users\\kaami\\anaconda3\\lib\\site-packages\\adbench\\baseline\\FEAWAD\\run.py:355: UserWarning: `model.fit_generator` is deprecated and will be removed in a future version. Please use `Model.fit`, which supports generators.\n",
      "  AEmodel.fit_generator(self.auto_encoder_batch_generator_sup(X_train, inlier_indices, self.args.batch_size, self.args.nb_batch, rng),\n"
     ]
    },
    {
     "name": "stdout",
     "output_type": "stream",
     "text": [
      "20/20 [==============================] - 2s 26ms/step - batch: 9.5000 - size: 512.0000 - loss: 7.4054\n",
      "Epoch 2/100\n",
      "20/20 [==============================] - 1s 38ms/step - batch: 9.5000 - size: 512.0000 - loss: 5.9880\n",
      "Epoch 3/100\n",
      "20/20 [==============================] - 1s 56ms/step - batch: 9.5000 - size: 512.0000 - loss: 4.6338\n",
      "Epoch 4/100\n",
      "20/20 [==============================] - 1s 63ms/step - batch: 9.5000 - size: 512.0000 - loss: 3.3412\n",
      "Epoch 5/100\n",
      "20/20 [==============================] - 1s 34ms/step - batch: 9.5000 - size: 512.0000 - loss: 2.1673\n",
      "Epoch 6/100\n",
      "20/20 [==============================] - 1s 41ms/step - batch: 9.5000 - size: 512.0000 - loss: 1.2242\n",
      "Epoch 7/100\n",
      "20/20 [==============================] - 1s 31ms/step - batch: 9.5000 - size: 512.0000 - loss: 0.5779\n",
      "Epoch 8/100\n",
      "20/20 [==============================] - 1s 42ms/step - batch: 9.5000 - size: 512.0000 - loss: 0.2197\n",
      "Epoch 9/100\n",
      "20/20 [==============================] - 1s 39ms/step - batch: 9.5000 - size: 512.0000 - loss: 0.0687\n",
      "Epoch 10/100\n",
      "20/20 [==============================] - 1s 35ms/step - batch: 9.5000 - size: 512.0000 - loss: 0.0326\n",
      "Epoch 11/100\n",
      "20/20 [==============================] - 1s 33ms/step - batch: 9.5000 - size: 512.0000 - loss: 0.0286\n",
      "Epoch 12/100\n",
      "20/20 [==============================] - 0s 25ms/step - batch: 9.5000 - size: 512.0000 - loss: 0.0284\n",
      "Epoch 13/100\n",
      "20/20 [==============================] - 1s 30ms/step - batch: 9.5000 - size: 512.0000 - loss: 0.0283\n",
      "Epoch 14/100\n",
      "20/20 [==============================] - 1s 25ms/step - batch: 9.5000 - size: 512.0000 - loss: 0.0281\n",
      "Epoch 15/100\n",
      "20/20 [==============================] - 1s 25ms/step - batch: 9.5000 - size: 512.0000 - loss: 0.0278\n",
      "Epoch 16/100\n",
      "20/20 [==============================] - 1s 29ms/step - batch: 9.5000 - size: 512.0000 - loss: 0.0275\n",
      "Epoch 17/100\n",
      "20/20 [==============================] - 1s 26ms/step - batch: 9.5000 - size: 512.0000 - loss: 0.0272\n",
      "Epoch 18/100\n",
      "20/20 [==============================] - 1s 29ms/step - batch: 9.5000 - size: 512.0000 - loss: 0.0267\n",
      "Epoch 19/100\n",
      "20/20 [==============================] - 0s 24ms/step - batch: 9.5000 - size: 512.0000 - loss: 0.0261\n",
      "Epoch 20/100\n",
      "20/20 [==============================] - 1s 25ms/step - batch: 9.5000 - size: 512.0000 - loss: 0.0255\n",
      "Epoch 21/100\n",
      "20/20 [==============================] - 1s 30ms/step - batch: 9.5000 - size: 512.0000 - loss: 0.0249\n",
      "Epoch 22/100\n",
      "20/20 [==============================] - 1s 26ms/step - batch: 9.5000 - size: 512.0000 - loss: 0.0243\n",
      "Epoch 23/100\n",
      "20/20 [==============================] - 1s 30ms/step - batch: 9.5000 - size: 512.0000 - loss: 0.0237\n",
      "Epoch 24/100\n",
      "20/20 [==============================] - 0s 25ms/step - batch: 9.5000 - size: 512.0000 - loss: 0.0232\n",
      "Epoch 25/100\n",
      "20/20 [==============================] - 0s 25ms/step - batch: 9.5000 - size: 512.0000 - loss: 0.0227\n",
      "Epoch 26/100\n",
      "20/20 [==============================] - 1s 29ms/step - batch: 9.5000 - size: 512.0000 - loss: 0.0223\n",
      "Epoch 27/100\n",
      "20/20 [==============================] - 0s 26ms/step - batch: 9.5000 - size: 512.0000 - loss: 0.0218\n",
      "Epoch 28/100\n",
      "20/20 [==============================] - 1s 30ms/step - batch: 9.5000 - size: 512.0000 - loss: 0.0214\n",
      "Epoch 29/100\n",
      "20/20 [==============================] - 1s 25ms/step - batch: 9.5000 - size: 512.0000 - loss: 0.0210\n",
      "Epoch 30/100\n",
      "20/20 [==============================] - 1s 27ms/step - batch: 9.5000 - size: 512.0000 - loss: 0.0206\n",
      "Epoch 31/100\n",
      "20/20 [==============================] - 1s 28ms/step - batch: 9.5000 - size: 512.0000 - loss: 0.0202\n",
      "Epoch 32/100\n",
      "20/20 [==============================] - 0s 25ms/step - batch: 9.5000 - size: 512.0000 - loss: 0.0198\n",
      "Epoch 33/100\n",
      "20/20 [==============================] - 1s 28ms/step - batch: 9.5000 - size: 512.0000 - loss: 0.0194\n",
      "Epoch 34/100\n",
      "20/20 [==============================] - 0s 25ms/step - batch: 9.5000 - size: 512.0000 - loss: 0.0190\n",
      "Epoch 35/100\n",
      "20/20 [==============================] - 1s 26ms/step - batch: 9.5000 - size: 512.0000 - loss: 0.0186\n",
      "Epoch 36/100\n",
      "20/20 [==============================] - 1s 30ms/step - batch: 9.5000 - size: 512.0000 - loss: 0.0183\n",
      "Epoch 37/100\n",
      "20/20 [==============================] - 1s 26ms/step - batch: 9.5000 - size: 512.0000 - loss: 0.0179\n",
      "Epoch 38/100\n",
      "20/20 [==============================] - 1s 25ms/step - batch: 9.5000 - size: 512.0000 - loss: 0.0176\n",
      "Epoch 39/100\n",
      "20/20 [==============================] - 1s 28ms/step - batch: 9.5000 - size: 512.0000 - loss: 0.0173\n",
      "Epoch 40/100\n",
      "20/20 [==============================] - 1s 26ms/step - batch: 9.5000 - size: 512.0000 - loss: 0.0170\n",
      "Epoch 41/100\n",
      "20/20 [==============================] - 1s 32ms/step - batch: 9.5000 - size: 512.0000 - loss: 0.0168\n",
      "Epoch 42/100\n",
      "20/20 [==============================] - 1s 28ms/step - batch: 9.5000 - size: 512.0000 - loss: 0.0165\n",
      "Epoch 43/100\n",
      "20/20 [==============================] - 1s 27ms/step - batch: 9.5000 - size: 512.0000 - loss: 0.0163\n",
      "Epoch 44/100\n",
      "20/20 [==============================] - 1s 28ms/step - batch: 9.5000 - size: 512.0000 - loss: 0.0161\n",
      "Epoch 45/100\n",
      "20/20 [==============================] - 1s 26ms/step - batch: 9.5000 - size: 512.0000 - loss: 0.0159\n",
      "Epoch 46/100\n",
      "20/20 [==============================] - 1s 30ms/step - batch: 9.5000 - size: 512.0000 - loss: 0.0157\n",
      "Epoch 47/100\n",
      "20/20 [==============================] - 1s 26ms/step - batch: 9.5000 - size: 512.0000 - loss: 0.0155\n",
      "Epoch 48/100\n",
      "20/20 [==============================] - 1s 25ms/step - batch: 9.5000 - size: 512.0000 - loss: 0.0154\n",
      "Epoch 49/100\n",
      "20/20 [==============================] - 1s 27ms/step - batch: 9.5000 - size: 512.0000 - loss: 0.0152\n",
      "Epoch 50/100\n",
      "20/20 [==============================] - 1s 26ms/step - batch: 9.5000 - size: 512.0000 - loss: 0.0151\n",
      "Epoch 51/100\n",
      "20/20 [==============================] - 1s 30ms/step - batch: 9.5000 - size: 512.0000 - loss: 0.0149\n",
      "Epoch 52/100\n",
      "20/20 [==============================] - 1s 27ms/step - batch: 9.5000 - size: 512.0000 - loss: 0.0148\n",
      "Epoch 53/100\n",
      "20/20 [==============================] - 1s 25ms/step - batch: 9.5000 - size: 512.0000 - loss: 0.0147\n",
      "Epoch 54/100\n",
      "20/20 [==============================] - 1s 31ms/step - batch: 9.5000 - size: 512.0000 - loss: 0.0146\n",
      "Epoch 55/100\n",
      "20/20 [==============================] - 1s 25ms/step - batch: 9.5000 - size: 512.0000 - loss: 0.0146\n",
      "Epoch 56/100\n",
      "20/20 [==============================] - 1s 30ms/step - batch: 9.5000 - size: 512.0000 - loss: 0.0145\n",
      "Epoch 57/100\n",
      "20/20 [==============================] - 1s 26ms/step - batch: 9.5000 - size: 512.0000 - loss: 0.0144\n",
      "Epoch 58/100\n",
      "20/20 [==============================] - 1s 27ms/step - batch: 9.5000 - size: 512.0000 - loss: 0.0144\n",
      "Epoch 59/100\n",
      "20/20 [==============================] - 1s 27ms/step - batch: 9.5000 - size: 512.0000 - loss: 0.0143\n",
      "Epoch 60/100\n",
      "20/20 [==============================] - 1s 24ms/step - batch: 9.5000 - size: 512.0000 - loss: 0.0143\n",
      "Epoch 61/100\n",
      "20/20 [==============================] - 1s 29ms/step - batch: 9.5000 - size: 512.0000 - loss: 0.0142\n",
      "Epoch 62/100\n",
      "20/20 [==============================] - 0s 24ms/step - batch: 9.5000 - size: 512.0000 - loss: 0.0142\n",
      "Epoch 63/100\n",
      "20/20 [==============================] - 1s 26ms/step - batch: 9.5000 - size: 512.0000 - loss: 0.0141\n",
      "Epoch 64/100\n",
      "20/20 [==============================] - 1s 29ms/step - batch: 9.5000 - size: 512.0000 - loss: 0.0141\n",
      "Epoch 65/100\n",
      "20/20 [==============================] - 1s 26ms/step - batch: 9.5000 - size: 512.0000 - loss: 0.0141\n",
      "Epoch 66/100\n",
      "20/20 [==============================] - 1s 27ms/step - batch: 9.5000 - size: 512.0000 - loss: 0.0140\n",
      "Epoch 67/100\n",
      "20/20 [==============================] - 1s 25ms/step - batch: 9.5000 - size: 512.0000 - loss: 0.0140\n",
      "Epoch 68/100\n",
      "20/20 [==============================] - 0s 24ms/step - batch: 9.5000 - size: 512.0000 - loss: 0.0140\n",
      "Epoch 69/100\n",
      "20/20 [==============================] - 1s 27ms/step - batch: 9.5000 - size: 512.0000 - loss: 0.0139\n",
      "Epoch 70/100\n",
      "20/20 [==============================] - 1s 25ms/step - batch: 9.5000 - size: 512.0000 - loss: 0.0139\n",
      "Epoch 71/100\n",
      "20/20 [==============================] - 1s 30ms/step - batch: 9.5000 - size: 512.0000 - loss: 0.0139\n",
      "Epoch 72/100\n",
      "20/20 [==============================] - 1s 26ms/step - batch: 9.5000 - size: 512.0000 - loss: 0.0139\n",
      "Epoch 73/100\n",
      "20/20 [==============================] - 0s 24ms/step - batch: 9.5000 - size: 512.0000 - loss: 0.0139\n",
      "Epoch 74/100\n",
      "20/20 [==============================] - 1s 27ms/step - batch: 9.5000 - size: 512.0000 - loss: 0.0138\n",
      "Epoch 75/100\n",
      "20/20 [==============================] - 0s 24ms/step - batch: 9.5000 - size: 512.0000 - loss: 0.0138\n",
      "Epoch 76/100\n",
      "20/20 [==============================] - 1s 28ms/step - batch: 9.5000 - size: 512.0000 - loss: 0.0138\n",
      "Epoch 77/100\n",
      "20/20 [==============================] - 1s 26ms/step - batch: 9.5000 - size: 512.0000 - loss: 0.0138\n",
      "Epoch 78/100\n",
      "20/20 [==============================] - 0s 25ms/step - batch: 9.5000 - size: 512.0000 - loss: 0.0138\n",
      "Epoch 79/100\n",
      "20/20 [==============================] - 1s 28ms/step - batch: 9.5000 - size: 512.0000 - loss: 0.0137\n",
      "Epoch 80/100\n",
      "20/20 [==============================] - 1s 26ms/step - batch: 9.5000 - size: 512.0000 - loss: 0.0137\n",
      "Epoch 81/100\n",
      "20/20 [==============================] - 1s 30ms/step - batch: 9.5000 - size: 512.0000 - loss: 0.0137\n",
      "Epoch 82/100\n",
      "20/20 [==============================] - 0s 25ms/step - batch: 9.5000 - size: 512.0000 - loss: 0.0137\n",
      "Epoch 83/100\n",
      "20/20 [==============================] - 1s 25ms/step - batch: 9.5000 - size: 512.0000 - loss: 0.0136\n",
      "Epoch 84/100\n",
      "20/20 [==============================] - 1s 30ms/step - batch: 9.5000 - size: 512.0000 - loss: 0.0136\n",
      "Epoch 85/100\n",
      "20/20 [==============================] - 1s 25ms/step - batch: 9.5000 - size: 512.0000 - loss: 0.0136\n",
      "Epoch 86/100\n",
      "20/20 [==============================] - 1s 30ms/step - batch: 9.5000 - size: 512.0000 - loss: 0.0136\n",
      "Epoch 87/100\n",
      "20/20 [==============================] - 1s 26ms/step - batch: 9.5000 - size: 512.0000 - loss: 0.0136\n",
      "Epoch 88/100\n",
      "20/20 [==============================] - 1s 27ms/step - batch: 9.5000 - size: 512.0000 - loss: 0.0136\n",
      "Epoch 89/100\n",
      "20/20 [==============================] - 1s 26ms/step - batch: 9.5000 - size: 512.0000 - loss: 0.0135\n",
      "Epoch 90/100\n",
      "20/20 [==============================] - 1s 25ms/step - batch: 9.5000 - size: 512.0000 - loss: 0.0135\n",
      "Epoch 91/100\n",
      "20/20 [==============================] - 1s 29ms/step - batch: 9.5000 - size: 512.0000 - loss: 0.0135\n",
      "Epoch 92/100\n",
      "20/20 [==============================] - 1s 27ms/step - batch: 9.5000 - size: 512.0000 - loss: 0.0135\n",
      "Epoch 93/100\n",
      "20/20 [==============================] - 1s 25ms/step - batch: 9.5000 - size: 512.0000 - loss: 0.0135\n",
      "Epoch 94/100\n",
      "20/20 [==============================] - 1s 27ms/step - batch: 9.5000 - size: 512.0000 - loss: 0.0134\n",
      "Epoch 95/100\n",
      "20/20 [==============================] - 1s 26ms/step - batch: 9.5000 - size: 512.0000 - loss: 0.0134\n",
      "Epoch 96/100\n",
      "20/20 [==============================] - 1s 30ms/step - batch: 9.5000 - size: 512.0000 - loss: 0.0134\n",
      "Epoch 97/100\n",
      "20/20 [==============================] - 1s 25ms/step - batch: 9.5000 - size: 512.0000 - loss: 0.0134\n",
      "Epoch 98/100\n",
      "20/20 [==============================] - 0s 25ms/step - batch: 9.5000 - size: 512.0000 - loss: 0.0134\n",
      "Epoch 99/100\n",
      "20/20 [==============================] - 1s 30ms/step - batch: 9.5000 - size: 512.0000 - loss: 0.0134\n",
      "Epoch 100/100\n",
      "20/20 [==============================] - 1s 27ms/step - batch: 9.5000 - size: 512.0000 - loss: 0.0133\n",
      "load pretrained autoencoder model....\n",
      "load autoencoder model\n",
      "end-to-end training start....\n",
      "Epoch 1/30\n"
     ]
    },
    {
     "name": "stderr",
     "output_type": "stream",
     "text": [
      "c:\\Users\\kaami\\anaconda3\\lib\\site-packages\\adbench\\baseline\\FEAWAD\\run.py:367: UserWarning: `model.fit_generator` is deprecated and will be removed in a future version. Please use `Model.fit`, which supports generators.\n",
      "  self.dev_model.fit_generator(self.batch_generator_sup(X_train, outlier_indices, inlier_indices, self.args.batch_size, self.args.nb_batch, rng),\n"
     ]
    },
    {
     "name": "stdout",
     "output_type": "stream",
     "text": [
      "20/20 [==============================] - 2s 23ms/step - batch: 9.5000 - size: 512.0000 - loss: 5.1306\n",
      "Epoch 2/30\n",
      "20/20 [==============================] - 0s 18ms/step - batch: 9.5000 - size: 512.0000 - loss: 4.7718\n",
      "Epoch 3/30\n",
      "20/20 [==============================] - 1s 29ms/step - batch: 9.5000 - size: 512.0000 - loss: 4.5739\n",
      "Epoch 4/30\n",
      "20/20 [==============================] - 1s 26ms/step - batch: 9.5000 - size: 512.0000 - loss: 4.4029\n",
      "Epoch 5/30\n",
      "20/20 [==============================] - 1s 30ms/step - batch: 9.5000 - size: 512.0000 - loss: 4.2348\n",
      "Epoch 6/30\n",
      "20/20 [==============================] - 0s 24ms/step - batch: 9.5000 - size: 512.0000 - loss: 4.0347\n",
      "Epoch 7/30\n",
      "20/20 [==============================] - 1s 25ms/step - batch: 9.5000 - size: 512.0000 - loss: 3.7858\n",
      "Epoch 8/30\n",
      "20/20 [==============================] - 1s 29ms/step - batch: 9.5000 - size: 512.0000 - loss: 3.4737\n",
      "Epoch 9/30\n",
      "20/20 [==============================] - 0s 24ms/step - batch: 9.5000 - size: 512.0000 - loss: 3.1703\n",
      "Epoch 10/30\n",
      "20/20 [==============================] - 1s 24ms/step - batch: 9.5000 - size: 512.0000 - loss: 2.8733\n",
      "Epoch 11/30\n",
      "20/20 [==============================] - 0s 25ms/step - batch: 9.5000 - size: 512.0000 - loss: 2.7107\n",
      "Epoch 12/30\n",
      "20/20 [==============================] - 0s 25ms/step - batch: 9.5000 - size: 512.0000 - loss: 2.6601\n",
      "Epoch 13/30\n",
      "20/20 [==============================] - 1s 29ms/step - batch: 9.5000 - size: 512.0000 - loss: 2.6247\n",
      "Epoch 14/30\n",
      "20/20 [==============================] - 0s 23ms/step - batch: 9.5000 - size: 512.0000 - loss: 2.5971\n",
      "Epoch 15/30\n",
      "20/20 [==============================] - 1s 25ms/step - batch: 9.5000 - size: 512.0000 - loss: 2.5785\n",
      "Epoch 16/30\n",
      "20/20 [==============================] - 1s 27ms/step - batch: 9.5000 - size: 512.0000 - loss: 2.5649\n",
      "Epoch 17/30\n",
      "20/20 [==============================] - 0s 24ms/step - batch: 9.5000 - size: 512.0000 - loss: 2.5557\n",
      "Epoch 18/30\n",
      "20/20 [==============================] - 1s 25ms/step - batch: 9.5000 - size: 512.0000 - loss: 2.5491\n",
      "Epoch 19/30\n",
      "20/20 [==============================] - 1s 30ms/step - batch: 9.5000 - size: 512.0000 - loss: 2.5442\n",
      "Epoch 20/30\n",
      "20/20 [==============================] - 1s 25ms/step - batch: 9.5000 - size: 512.0000 - loss: 2.5400\n",
      "Epoch 21/30\n",
      "20/20 [==============================] - 1s 29ms/step - batch: 9.5000 - size: 512.0000 - loss: 2.5358\n",
      "Epoch 22/30\n",
      "20/20 [==============================] - 0s 25ms/step - batch: 9.5000 - size: 512.0000 - loss: 2.5326\n",
      "Epoch 23/30\n",
      "20/20 [==============================] - 0s 23ms/step - batch: 9.5000 - size: 512.0000 - loss: 2.5305\n",
      "Epoch 24/30\n",
      "20/20 [==============================] - 1s 29ms/step - batch: 9.5000 - size: 512.0000 - loss: 2.5290\n",
      "Epoch 25/30\n",
      "20/20 [==============================] - 0s 24ms/step - batch: 9.5000 - size: 512.0000 - loss: 2.5280\n",
      "Epoch 26/30\n",
      "20/20 [==============================] - 1s 26ms/step - batch: 9.5000 - size: 512.0000 - loss: 2.5269\n",
      "Epoch 27/30\n",
      "20/20 [==============================] - 1s 25ms/step - batch: 9.5000 - size: 512.0000 - loss: 2.5256\n",
      "Epoch 28/30\n",
      "20/20 [==============================] - 0s 25ms/step - batch: 9.5000 - size: 512.0000 - loss: 2.5246\n",
      "Epoch 29/30\n",
      "20/20 [==============================] - 1s 29ms/step - batch: 9.5000 - size: 512.0000 - loss: 2.5232\n",
      "Epoch 30/30\n",
      "20/20 [==============================] - 1s 26ms/step - batch: 9.5000 - size: 512.0000 - loss: 2.5224\n",
      "[0 1 1 0 1 1 1 1 0 1 0 1 1 1 1 1 1 0 1 1 1 0 0 0 0]\n",
      "[[0]\n",
      " [7]\n",
      " [6]\n",
      " [0]\n",
      " [7]\n",
      " [6]\n",
      " [5]\n",
      " [7]\n",
      " [0]\n",
      " [7]\n",
      " [0]\n",
      " [7]\n",
      " [6]\n",
      " [6]\n",
      " [6]\n",
      " [7]\n",
      " [7]\n",
      " [0]\n",
      " [6]\n",
      " [6]\n",
      " [7]\n",
      " [0]\n",
      " [0]\n",
      " [0]\n",
      " [0]]\n",
      "2463.0\n",
      "[[ 6.31805137e-02]\n",
      " [ 6.73328066e+00]\n",
      " [ 6.26883316e+00]\n",
      " [ 5.18730842e-02]\n",
      " [ 6.91409302e+00]\n",
      " [ 6.31213713e+00]\n",
      " [ 5.26573277e+00]\n",
      " [ 7.09970617e+00]\n",
      " [ 5.06902374e-02]\n",
      " [ 7.18089199e+00]\n",
      " [ 4.35811989e-02]\n",
      " [ 7.29350805e+00]\n",
      " [ 5.91613913e+00]\n",
      " [ 6.08729458e+00]\n",
      " [ 6.47474194e+00]\n",
      " [ 6.60070086e+00]\n",
      " [ 6.84433651e+00]\n",
      " [ 1.16472561e-02]\n",
      " [ 6.01232576e+00]\n",
      " [ 6.01643467e+00]\n",
      " [ 7.38456583e+00]\n",
      " [ 3.07942415e-03]\n",
      " [ 1.03283815e-01]\n",
      " [ 6.82717049e-03]\n",
      " [-8.19420815e-02]]\n"
     ]
    },
    {
     "name": "stderr",
     "output_type": "stream",
     "text": [
      "c:\\Users\\kaami\\anaconda3\\lib\\site-packages\\keras\\engine\\training_v1.py:2359: UserWarning: `Model.state_updates` will be removed in a future version. This property should not be used in TensorFlow 2.0, as `updates` are applied automatically.\n",
      "  updates=self.state_updates,\n"
     ]
    }
   ],
   "source": [
    "from adbench.baseline.FEAWAD.run import FEAWAD\n",
    "model = FEAWAD(seed=42)\n",
    "model.fit(X_train, y_train)  # fit\n",
    "score = model.predict_score(X_test)  # predict\n",
    "print(y_test)\n",
    "print(np.round(score).astype(int))\n",
    "print(np.sum(np.abs(y_test-np.round(score))))\n",
    "print(score)"
   ]
  },
  {
   "cell_type": "markdown",
   "metadata": {},
   "source": [
    "## GANomaly"
   ]
  },
  {
   "cell_type": "code",
   "execution_count": 25,
   "metadata": {},
   "outputs": [
    {
     "name": "stdout",
     "output_type": "stream",
     "text": [
      "[0 0 1 0 0 1 1 1 1 0 1 1 0 0 1 1 0 0 1 0 0 0 1 1 0 0 1 1 1 0]\n",
      "[0 0 0 0 0 0 0 1 0 0 1 0 0 0 0 0 0 0 1 0 0 0 1 0 0 0 1 0 1 0]\n",
      "8.0\n",
      "[0.29894096 0.57203805 0.5967828  0.50147706 0.34078223 0.46893257\n",
      " 0.5189512  0.69451725 0.56859076 0.42945147 0.65353525 0.3764944\n",
      " 0.48709857 0.43866768 0.566486   0.56212664 0.545915   0.49486908\n",
      " 0.6152574  0.40298057 0.40517557 0.5842921  0.604854   0.44535246\n",
      " 0.36877742 0.46168762 0.6758672  0.38683867 0.657749   0.41536793]\n"
     ]
    }
   ],
   "source": [
    "from adbench.baseline.GANomaly.run import GANomaly\n",
    "model = GANomaly(seed=42)\n",
    "model.fit(X_train, y_train)  # fit\n",
    "score = model.predict_score(X_test)  # predict\n",
    "print(y_test)\n",
    "print(np.round(score>0.6).astype(int))\n",
    "print(np.sum(np.abs(y_test-np.round(score))))\n",
    "print(score)"
   ]
  }
 ],
 "metadata": {
  "kernelspec": {
   "display_name": "base",
   "language": "python",
   "name": "python3"
  },
  "language_info": {
   "codemirror_mode": {
    "name": "ipython",
    "version": 3
   },
   "file_extension": ".py",
   "mimetype": "text/x-python",
   "name": "python",
   "nbconvert_exporter": "python",
   "pygments_lexer": "ipython3",
   "version": "3.8.8"
  }
 },
 "nbformat": 4,
 "nbformat_minor": 2
}
